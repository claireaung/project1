{
 "cells": [
  {
   "cell_type": "code",
   "execution_count": 2,
   "metadata": {},
   "outputs": [],
   "source": [
    "import pandas as pd\n",
    "import plotly.express as px\n",
    "\n",
    "# Load the dataset (change the file path as needed)\n",
    "df = pd.read_csv('../coaster_db.csv')"
   ]
  },
  {
   "cell_type": "code",
   "execution_count": 3,
   "metadata": {},
   "outputs": [
    {
     "name": "stdout",
     "output_type": "stream",
     "text": [
      "<class 'pandas.core.frame.DataFrame'>\n",
      "RangeIndex: 1087 entries, 0 to 1086\n",
      "Data columns (total 56 columns):\n",
      " #   Column                         Non-Null Count  Dtype  \n",
      "---  ------                         --------------  -----  \n",
      " 0   coaster_name                   1087 non-null   object \n",
      " 1   Length                         953 non-null    object \n",
      " 2   Speed                          937 non-null    object \n",
      " 3   Location                       1087 non-null   object \n",
      " 4   Status                         874 non-null    object \n",
      " 5   Opening date                   837 non-null    object \n",
      " 6   Type                           1087 non-null   object \n",
      " 7   Manufacturer                   1028 non-null   object \n",
      " 8   Height restriction             831 non-null    object \n",
      " 9   Model                          744 non-null    object \n",
      " 10  Height                         965 non-null    object \n",
      " 11  Inversions                     932 non-null    float64\n",
      " 12  Lift/launch system             795 non-null    object \n",
      " 13  Cost                           382 non-null    object \n",
      " 14  Trains                         718 non-null    object \n",
      " 15  Park section                   487 non-null    object \n",
      " 16  Duration                       765 non-null    object \n",
      " 17  Capacity                       575 non-null    object \n",
      " 18  G-force                        362 non-null    object \n",
      " 19  Designer                       578 non-null    object \n",
      " 20  Max vertical angle             357 non-null    object \n",
      " 21  Drop                           494 non-null    object \n",
      " 22  Soft opening date              96 non-null     object \n",
      " 23  Fast Lane available            69 non-null     object \n",
      " 24  Replaced                       173 non-null    object \n",
      " 25  Track layout                   335 non-null    object \n",
      " 26  Fastrack available             19 non-null     object \n",
      " 27  Soft opening date.1            96 non-null     object \n",
      " 28  Closing date                   236 non-null    object \n",
      " 29  Opened                         27 non-null     object \n",
      " 30  Replaced by                    88 non-null     object \n",
      " 31  Website                        87 non-null     object \n",
      " 32  Flash Pass Available           50 non-null     object \n",
      " 33  Must transfer from wheelchair  106 non-null    object \n",
      " 34  Theme                          44 non-null     object \n",
      " 35  Single rider line available    81 non-null     object \n",
      " 36  Restraint Style                22 non-null     object \n",
      " 37  Flash Pass available           46 non-null     object \n",
      " 38  Acceleration                   60 non-null     object \n",
      " 39  Restraints                     24 non-null     object \n",
      " 40  Name                           35 non-null     object \n",
      " 41  year_introduced                1087 non-null   int64  \n",
      " 42  latitude                       812 non-null    float64\n",
      " 43  longitude                      812 non-null    float64\n",
      " 44  Type_Main                      1087 non-null   object \n",
      " 45  opening_date_clean             837 non-null    object \n",
      " 46  speed1                         937 non-null    object \n",
      " 47  speed2                         935 non-null    object \n",
      " 48  speed1_value                   937 non-null    float64\n",
      " 49  speed1_unit                    937 non-null    object \n",
      " 50  speed_mph                      937 non-null    float64\n",
      " 51  height_value                   965 non-null    float64\n",
      " 52  height_unit                    965 non-null    object \n",
      " 53  height_ft                      171 non-null    float64\n",
      " 54  Inversions_clean               1087 non-null   int64  \n",
      " 55  Gforce_clean                   362 non-null    float64\n",
      "dtypes: float64(8), int64(2), object(46)\n",
      "memory usage: 475.7+ KB\n"
     ]
    },
    {
     "data": {
      "text/plain": [
       "None"
      ]
     },
     "metadata": {},
     "output_type": "display_data"
    },
    {
     "data": {
      "text/html": [
       "<div>\n",
       "<style scoped>\n",
       "    .dataframe tbody tr th:only-of-type {\n",
       "        vertical-align: middle;\n",
       "    }\n",
       "\n",
       "    .dataframe tbody tr th {\n",
       "        vertical-align: top;\n",
       "    }\n",
       "\n",
       "    .dataframe thead th {\n",
       "        text-align: right;\n",
       "    }\n",
       "</style>\n",
       "<table border=\"1\" class=\"dataframe\">\n",
       "  <thead>\n",
       "    <tr style=\"text-align: right;\">\n",
       "      <th></th>\n",
       "      <th>coaster_name</th>\n",
       "      <th>Length</th>\n",
       "      <th>Speed</th>\n",
       "      <th>Location</th>\n",
       "      <th>Status</th>\n",
       "      <th>Opening date</th>\n",
       "      <th>Type</th>\n",
       "      <th>Manufacturer</th>\n",
       "      <th>Height restriction</th>\n",
       "      <th>Model</th>\n",
       "      <th>...</th>\n",
       "      <th>speed1</th>\n",
       "      <th>speed2</th>\n",
       "      <th>speed1_value</th>\n",
       "      <th>speed1_unit</th>\n",
       "      <th>speed_mph</th>\n",
       "      <th>height_value</th>\n",
       "      <th>height_unit</th>\n",
       "      <th>height_ft</th>\n",
       "      <th>Inversions_clean</th>\n",
       "      <th>Gforce_clean</th>\n",
       "    </tr>\n",
       "  </thead>\n",
       "  <tbody>\n",
       "    <tr>\n",
       "      <th>0</th>\n",
       "      <td>Switchback Railway</td>\n",
       "      <td>600 ft (180 m)</td>\n",
       "      <td>6 mph (9.7 km/h)</td>\n",
       "      <td>Coney Island</td>\n",
       "      <td>Removed</td>\n",
       "      <td>June 16, 1884</td>\n",
       "      <td>Wood</td>\n",
       "      <td>LaMarcus Adna Thompson</td>\n",
       "      <td>NaN</td>\n",
       "      <td>Lift Packed</td>\n",
       "      <td>...</td>\n",
       "      <td>6 mph</td>\n",
       "      <td>9.7 km/h</td>\n",
       "      <td>6.0</td>\n",
       "      <td>mph</td>\n",
       "      <td>6.0</td>\n",
       "      <td>50.0</td>\n",
       "      <td>ft</td>\n",
       "      <td>NaN</td>\n",
       "      <td>0</td>\n",
       "      <td>2.9</td>\n",
       "    </tr>\n",
       "    <tr>\n",
       "      <th>1</th>\n",
       "      <td>Flip Flap Railway</td>\n",
       "      <td>NaN</td>\n",
       "      <td>NaN</td>\n",
       "      <td>Sea Lion Park</td>\n",
       "      <td>Removed</td>\n",
       "      <td>1895</td>\n",
       "      <td>Wood</td>\n",
       "      <td>Lina Beecher</td>\n",
       "      <td>NaN</td>\n",
       "      <td>NaN</td>\n",
       "      <td>...</td>\n",
       "      <td>NaN</td>\n",
       "      <td>NaN</td>\n",
       "      <td>NaN</td>\n",
       "      <td>NaN</td>\n",
       "      <td>NaN</td>\n",
       "      <td>NaN</td>\n",
       "      <td>NaN</td>\n",
       "      <td>NaN</td>\n",
       "      <td>1</td>\n",
       "      <td>12.0</td>\n",
       "    </tr>\n",
       "    <tr>\n",
       "      <th>2</th>\n",
       "      <td>Switchback Railway (Euclid Beach Park)</td>\n",
       "      <td>NaN</td>\n",
       "      <td>NaN</td>\n",
       "      <td>Cleveland, Ohio, United States</td>\n",
       "      <td>Closed</td>\n",
       "      <td>NaN</td>\n",
       "      <td>Other</td>\n",
       "      <td>NaN</td>\n",
       "      <td>NaN</td>\n",
       "      <td>NaN</td>\n",
       "      <td>...</td>\n",
       "      <td>NaN</td>\n",
       "      <td>NaN</td>\n",
       "      <td>NaN</td>\n",
       "      <td>NaN</td>\n",
       "      <td>NaN</td>\n",
       "      <td>NaN</td>\n",
       "      <td>NaN</td>\n",
       "      <td>NaN</td>\n",
       "      <td>0</td>\n",
       "      <td>NaN</td>\n",
       "    </tr>\n",
       "    <tr>\n",
       "      <th>3</th>\n",
       "      <td>Loop the Loop (Coney Island)</td>\n",
       "      <td>NaN</td>\n",
       "      <td>NaN</td>\n",
       "      <td>Other</td>\n",
       "      <td>Removed</td>\n",
       "      <td>1901</td>\n",
       "      <td>Steel</td>\n",
       "      <td>Edwin Prescott</td>\n",
       "      <td>NaN</td>\n",
       "      <td>NaN</td>\n",
       "      <td>...</td>\n",
       "      <td>NaN</td>\n",
       "      <td>NaN</td>\n",
       "      <td>NaN</td>\n",
       "      <td>NaN</td>\n",
       "      <td>NaN</td>\n",
       "      <td>NaN</td>\n",
       "      <td>NaN</td>\n",
       "      <td>NaN</td>\n",
       "      <td>1</td>\n",
       "      <td>NaN</td>\n",
       "    </tr>\n",
       "    <tr>\n",
       "      <th>4</th>\n",
       "      <td>Loop the Loop (Young's Pier)</td>\n",
       "      <td>NaN</td>\n",
       "      <td>NaN</td>\n",
       "      <td>Other</td>\n",
       "      <td>Removed</td>\n",
       "      <td>1901</td>\n",
       "      <td>Steel</td>\n",
       "      <td>Edwin Prescott</td>\n",
       "      <td>NaN</td>\n",
       "      <td>NaN</td>\n",
       "      <td>...</td>\n",
       "      <td>NaN</td>\n",
       "      <td>NaN</td>\n",
       "      <td>NaN</td>\n",
       "      <td>NaN</td>\n",
       "      <td>NaN</td>\n",
       "      <td>NaN</td>\n",
       "      <td>NaN</td>\n",
       "      <td>NaN</td>\n",
       "      <td>1</td>\n",
       "      <td>NaN</td>\n",
       "    </tr>\n",
       "  </tbody>\n",
       "</table>\n",
       "<p>5 rows × 56 columns</p>\n",
       "</div>"
      ],
      "text/plain": [
       "                             coaster_name          Length             Speed  \\\n",
       "0                      Switchback Railway  600 ft (180 m)  6 mph (9.7 km/h)   \n",
       "1                       Flip Flap Railway             NaN               NaN   \n",
       "2  Switchback Railway (Euclid Beach Park)             NaN               NaN   \n",
       "3            Loop the Loop (Coney Island)             NaN               NaN   \n",
       "4            Loop the Loop (Young's Pier)             NaN               NaN   \n",
       "\n",
       "                         Location   Status   Opening date   Type  \\\n",
       "0                    Coney Island  Removed  June 16, 1884   Wood   \n",
       "1                   Sea Lion Park  Removed           1895   Wood   \n",
       "2  Cleveland, Ohio, United States   Closed            NaN  Other   \n",
       "3                           Other  Removed           1901  Steel   \n",
       "4                           Other  Removed           1901  Steel   \n",
       "\n",
       "             Manufacturer Height restriction        Model  ...  speed1  \\\n",
       "0  LaMarcus Adna Thompson                NaN  Lift Packed  ...  6 mph    \n",
       "1            Lina Beecher                NaN          NaN  ...     NaN   \n",
       "2                     NaN                NaN          NaN  ...     NaN   \n",
       "3          Edwin Prescott                NaN          NaN  ...     NaN   \n",
       "4          Edwin Prescott                NaN          NaN  ...     NaN   \n",
       "\n",
       "     speed2 speed1_value speed1_unit speed_mph height_value height_unit  \\\n",
       "0  9.7 km/h          6.0         mph       6.0         50.0          ft   \n",
       "1       NaN          NaN         NaN       NaN          NaN         NaN   \n",
       "2       NaN          NaN         NaN       NaN          NaN         NaN   \n",
       "3       NaN          NaN         NaN       NaN          NaN         NaN   \n",
       "4       NaN          NaN         NaN       NaN          NaN         NaN   \n",
       "\n",
       "  height_ft Inversions_clean Gforce_clean  \n",
       "0       NaN                0          2.9  \n",
       "1       NaN                1         12.0  \n",
       "2       NaN                0          NaN  \n",
       "3       NaN                1          NaN  \n",
       "4       NaN                1          NaN  \n",
       "\n",
       "[5 rows x 56 columns]"
      ]
     },
     "metadata": {},
     "output_type": "display_data"
    },
    {
     "data": {
      "text/html": [
       "<div>\n",
       "<style scoped>\n",
       "    .dataframe tbody tr th:only-of-type {\n",
       "        vertical-align: middle;\n",
       "    }\n",
       "\n",
       "    .dataframe tbody tr th {\n",
       "        vertical-align: top;\n",
       "    }\n",
       "\n",
       "    .dataframe thead th {\n",
       "        text-align: right;\n",
       "    }\n",
       "</style>\n",
       "<table border=\"1\" class=\"dataframe\">\n",
       "  <thead>\n",
       "    <tr style=\"text-align: right;\">\n",
       "      <th></th>\n",
       "      <th>Inversions</th>\n",
       "      <th>year_introduced</th>\n",
       "      <th>latitude</th>\n",
       "      <th>longitude</th>\n",
       "      <th>speed1_value</th>\n",
       "      <th>speed_mph</th>\n",
       "      <th>height_value</th>\n",
       "      <th>height_ft</th>\n",
       "      <th>Inversions_clean</th>\n",
       "      <th>Gforce_clean</th>\n",
       "    </tr>\n",
       "  </thead>\n",
       "  <tbody>\n",
       "    <tr>\n",
       "      <th>count</th>\n",
       "      <td>932.000000</td>\n",
       "      <td>1087.000000</td>\n",
       "      <td>812.000000</td>\n",
       "      <td>812.000000</td>\n",
       "      <td>937.000000</td>\n",
       "      <td>937.000000</td>\n",
       "      <td>965.000000</td>\n",
       "      <td>171.000000</td>\n",
       "      <td>1087.000000</td>\n",
       "      <td>362.000000</td>\n",
       "    </tr>\n",
       "    <tr>\n",
       "      <th>mean</th>\n",
       "      <td>1.547210</td>\n",
       "      <td>1994.986201</td>\n",
       "      <td>38.373484</td>\n",
       "      <td>-41.595373</td>\n",
       "      <td>53.850374</td>\n",
       "      <td>48.617289</td>\n",
       "      <td>89.575171</td>\n",
       "      <td>101.996491</td>\n",
       "      <td>1.326587</td>\n",
       "      <td>3.824006</td>\n",
       "    </tr>\n",
       "    <tr>\n",
       "      <th>std</th>\n",
       "      <td>2.114073</td>\n",
       "      <td>23.475248</td>\n",
       "      <td>15.516596</td>\n",
       "      <td>72.285227</td>\n",
       "      <td>23.385518</td>\n",
       "      <td>16.678031</td>\n",
       "      <td>136.246444</td>\n",
       "      <td>67.329092</td>\n",
       "      <td>2.030854</td>\n",
       "      <td>0.989998</td>\n",
       "    </tr>\n",
       "    <tr>\n",
       "      <th>min</th>\n",
       "      <td>0.000000</td>\n",
       "      <td>1884.000000</td>\n",
       "      <td>-48.261700</td>\n",
       "      <td>-123.035700</td>\n",
       "      <td>5.000000</td>\n",
       "      <td>5.000000</td>\n",
       "      <td>4.000000</td>\n",
       "      <td>13.100000</td>\n",
       "      <td>0.000000</td>\n",
       "      <td>0.800000</td>\n",
       "    </tr>\n",
       "    <tr>\n",
       "      <th>25%</th>\n",
       "      <td>0.000000</td>\n",
       "      <td>1989.000000</td>\n",
       "      <td>35.031050</td>\n",
       "      <td>-84.552200</td>\n",
       "      <td>40.000000</td>\n",
       "      <td>37.300000</td>\n",
       "      <td>44.000000</td>\n",
       "      <td>51.800000</td>\n",
       "      <td>0.000000</td>\n",
       "      <td>3.400000</td>\n",
       "    </tr>\n",
       "    <tr>\n",
       "      <th>50%</th>\n",
       "      <td>0.000000</td>\n",
       "      <td>2000.000000</td>\n",
       "      <td>40.289800</td>\n",
       "      <td>-76.653600</td>\n",
       "      <td>50.000000</td>\n",
       "      <td>49.700000</td>\n",
       "      <td>79.000000</td>\n",
       "      <td>91.200000</td>\n",
       "      <td>0.000000</td>\n",
       "      <td>4.000000</td>\n",
       "    </tr>\n",
       "    <tr>\n",
       "      <th>75%</th>\n",
       "      <td>3.000000</td>\n",
       "      <td>2010.000000</td>\n",
       "      <td>44.799600</td>\n",
       "      <td>2.778100</td>\n",
       "      <td>63.000000</td>\n",
       "      <td>58.000000</td>\n",
       "      <td>113.000000</td>\n",
       "      <td>131.200000</td>\n",
       "      <td>2.000000</td>\n",
       "      <td>4.500000</td>\n",
       "    </tr>\n",
       "    <tr>\n",
       "      <th>max</th>\n",
       "      <td>14.000000</td>\n",
       "      <td>2022.000000</td>\n",
       "      <td>63.230900</td>\n",
       "      <td>153.426500</td>\n",
       "      <td>240.000000</td>\n",
       "      <td>149.100000</td>\n",
       "      <td>3937.000000</td>\n",
       "      <td>377.300000</td>\n",
       "      <td>14.000000</td>\n",
       "      <td>12.000000</td>\n",
       "    </tr>\n",
       "  </tbody>\n",
       "</table>\n",
       "</div>"
      ],
      "text/plain": [
       "       Inversions  year_introduced    latitude   longitude  speed1_value  \\\n",
       "count  932.000000      1087.000000  812.000000  812.000000    937.000000   \n",
       "mean     1.547210      1994.986201   38.373484  -41.595373     53.850374   \n",
       "std      2.114073        23.475248   15.516596   72.285227     23.385518   \n",
       "min      0.000000      1884.000000  -48.261700 -123.035700      5.000000   \n",
       "25%      0.000000      1989.000000   35.031050  -84.552200     40.000000   \n",
       "50%      0.000000      2000.000000   40.289800  -76.653600     50.000000   \n",
       "75%      3.000000      2010.000000   44.799600    2.778100     63.000000   \n",
       "max     14.000000      2022.000000   63.230900  153.426500    240.000000   \n",
       "\n",
       "        speed_mph  height_value   height_ft  Inversions_clean  Gforce_clean  \n",
       "count  937.000000    965.000000  171.000000       1087.000000    362.000000  \n",
       "mean    48.617289     89.575171  101.996491          1.326587      3.824006  \n",
       "std     16.678031    136.246444   67.329092          2.030854      0.989998  \n",
       "min      5.000000      4.000000   13.100000          0.000000      0.800000  \n",
       "25%     37.300000     44.000000   51.800000          0.000000      3.400000  \n",
       "50%     49.700000     79.000000   91.200000          0.000000      4.000000  \n",
       "75%     58.000000    113.000000  131.200000          2.000000      4.500000  \n",
       "max    149.100000   3937.000000  377.300000         14.000000     12.000000  "
      ]
     },
     "metadata": {},
     "output_type": "display_data"
    }
   ],
   "source": [
    "display(df.info())\n",
    "display(df.head())\n",
    "display(df.describe())"
   ]
  },
  {
   "cell_type": "code",
   "execution_count": 4,
   "metadata": {},
   "outputs": [],
   "source": [
    "df = df[['coaster_name',   #data_subsetting\n",
    "    #'Length', 'Speed', \n",
    "    'Location', 'Status', \n",
    "    #'Opening date',\n",
    "    #'Type',\n",
    "    'Manufacturer', \n",
    "    #'Height restriction', 'Model', 'Height',\n",
    "    #'Inversions', 'Lift/launch system', 'Cost', 'Trains', 'Park section',\n",
    "    #'Duration', 'Capacity', 'G-force', 'Designer', 'Max vertical angle',\n",
    "    #'Drop', 'Soft opening date', 'Fast Lane available', 'Replaced',\n",
    "    #'Track layout', 'Fastrack available', 'Soft opening date.1',\n",
    "    #'Closing date', 'Opened', 'Replaced by', 'Website',\n",
    "    #'Flash Pass Available', 'Must transfer from wheelchair', 'Theme',\n",
    "    #'Single rider line available', 'Restraint Style',\n",
    "    #'Flash Pass available', 'Acceleration', 'Restraints', 'Name',\n",
    "    'year_introduced', 'latitude', 'longitude', 'Type_Main',\n",
    "       'opening_date_clean', \n",
    "    #'speed1', 'speed2', 'speed1_value', 'speed1_unit',\n",
    "    'speed_mph', \n",
    "    #'height_value', 'height_unit', \n",
    "    'height_ft',\n",
    "       'Inversions_clean', 'Gforce_clean']].copy()"
   ]
  },
  {
   "cell_type": "code",
   "execution_count": 5,
   "metadata": {},
   "outputs": [],
   "source": [
    "df['opening_date_clean'] = pd.to_datetime(df['opening_date_clean']) "
   ]
  },
  {
   "cell_type": "code",
   "execution_count": 6,
   "metadata": {},
   "outputs": [],
   "source": [
    "df= df.rename(columns={'coaster_name':'Coaster_Name',\n",
    "                  'year_introduced':'Year_Introduced',\n",
    "                  'opening_date_clean':'Opening_Date',\n",
    "                  'speed_mph':'Speed_mph',\n",
    "                  'height_ft':'Height_ft',\n",
    "                  'Inversions_clean':'Inversions',\n",
    "                  'Gforce_clean':'Gforce'})"
   ]
  },
  {
   "cell_type": "code",
   "execution_count": 7,
   "metadata": {},
   "outputs": [
    {
     "data": {
      "text/plain": [
       "Coaster_Name         0\n",
       "Location             0\n",
       "Status             213\n",
       "Manufacturer        59\n",
       "Year_Introduced      0\n",
       "latitude           275\n",
       "longitude          275\n",
       "Type_Main            0\n",
       "Opening_Date       250\n",
       "Speed_mph          150\n",
       "Height_ft          916\n",
       "Inversions           0\n",
       "Gforce             725\n",
       "dtype: int64"
      ]
     },
     "execution_count": 7,
     "metadata": {},
     "output_type": "execute_result"
    }
   ],
   "source": [
    "#missing value\n",
    "df.isna().sum()"
   ]
  },
  {
   "cell_type": "code",
   "execution_count": 8,
   "metadata": {},
   "outputs": [
    {
     "data": {
      "application/vnd.plotly.v1+json": {
       "config": {
        "plotlyServerURL": "https://plot.ly"
       },
       "data": [
        {
         "alignmentgroup": "True",
         "hovertemplate": "Year Introduced=%{x}<br>Count=%{y}<extra></extra>",
         "legendgroup": "",
         "marker": {
          "color": "#636efa",
          "pattern": {
           "shape": ""
          }
         },
         "name": "",
         "offsetgroup": "",
         "orientation": "v",
         "showlegend": false,
         "textposition": "auto",
         "type": "bar",
         "x": [
          1999,
          2000,
          1998,
          2011,
          2001,
          2002,
          2007,
          2008,
          2004,
          2012
         ],
         "xaxis": "x",
         "y": [
          49,
          47,
          32,
          31,
          30,
          30,
          30,
          30,
          27,
          27
         ],
         "yaxis": "y"
        }
       ],
       "layout": {
        "barmode": "relative",
        "legend": {
         "tracegroupgap": 0
        },
        "template": {
         "data": {
          "bar": [
           {
            "error_x": {
             "color": "#2a3f5f"
            },
            "error_y": {
             "color": "#2a3f5f"
            },
            "marker": {
             "line": {
              "color": "#E5ECF6",
              "width": 0.5
             },
             "pattern": {
              "fillmode": "overlay",
              "size": 10,
              "solidity": 0.2
             }
            },
            "type": "bar"
           }
          ],
          "barpolar": [
           {
            "marker": {
             "line": {
              "color": "#E5ECF6",
              "width": 0.5
             },
             "pattern": {
              "fillmode": "overlay",
              "size": 10,
              "solidity": 0.2
             }
            },
            "type": "barpolar"
           }
          ],
          "carpet": [
           {
            "aaxis": {
             "endlinecolor": "#2a3f5f",
             "gridcolor": "white",
             "linecolor": "white",
             "minorgridcolor": "white",
             "startlinecolor": "#2a3f5f"
            },
            "baxis": {
             "endlinecolor": "#2a3f5f",
             "gridcolor": "white",
             "linecolor": "white",
             "minorgridcolor": "white",
             "startlinecolor": "#2a3f5f"
            },
            "type": "carpet"
           }
          ],
          "choropleth": [
           {
            "colorbar": {
             "outlinewidth": 0,
             "ticks": ""
            },
            "type": "choropleth"
           }
          ],
          "contour": [
           {
            "colorbar": {
             "outlinewidth": 0,
             "ticks": ""
            },
            "colorscale": [
             [
              0,
              "#0d0887"
             ],
             [
              0.1111111111111111,
              "#46039f"
             ],
             [
              0.2222222222222222,
              "#7201a8"
             ],
             [
              0.3333333333333333,
              "#9c179e"
             ],
             [
              0.4444444444444444,
              "#bd3786"
             ],
             [
              0.5555555555555556,
              "#d8576b"
             ],
             [
              0.6666666666666666,
              "#ed7953"
             ],
             [
              0.7777777777777778,
              "#fb9f3a"
             ],
             [
              0.8888888888888888,
              "#fdca26"
             ],
             [
              1,
              "#f0f921"
             ]
            ],
            "type": "contour"
           }
          ],
          "contourcarpet": [
           {
            "colorbar": {
             "outlinewidth": 0,
             "ticks": ""
            },
            "type": "contourcarpet"
           }
          ],
          "heatmap": [
           {
            "colorbar": {
             "outlinewidth": 0,
             "ticks": ""
            },
            "colorscale": [
             [
              0,
              "#0d0887"
             ],
             [
              0.1111111111111111,
              "#46039f"
             ],
             [
              0.2222222222222222,
              "#7201a8"
             ],
             [
              0.3333333333333333,
              "#9c179e"
             ],
             [
              0.4444444444444444,
              "#bd3786"
             ],
             [
              0.5555555555555556,
              "#d8576b"
             ],
             [
              0.6666666666666666,
              "#ed7953"
             ],
             [
              0.7777777777777778,
              "#fb9f3a"
             ],
             [
              0.8888888888888888,
              "#fdca26"
             ],
             [
              1,
              "#f0f921"
             ]
            ],
            "type": "heatmap"
           }
          ],
          "heatmapgl": [
           {
            "colorbar": {
             "outlinewidth": 0,
             "ticks": ""
            },
            "colorscale": [
             [
              0,
              "#0d0887"
             ],
             [
              0.1111111111111111,
              "#46039f"
             ],
             [
              0.2222222222222222,
              "#7201a8"
             ],
             [
              0.3333333333333333,
              "#9c179e"
             ],
             [
              0.4444444444444444,
              "#bd3786"
             ],
             [
              0.5555555555555556,
              "#d8576b"
             ],
             [
              0.6666666666666666,
              "#ed7953"
             ],
             [
              0.7777777777777778,
              "#fb9f3a"
             ],
             [
              0.8888888888888888,
              "#fdca26"
             ],
             [
              1,
              "#f0f921"
             ]
            ],
            "type": "heatmapgl"
           }
          ],
          "histogram": [
           {
            "marker": {
             "pattern": {
              "fillmode": "overlay",
              "size": 10,
              "solidity": 0.2
             }
            },
            "type": "histogram"
           }
          ],
          "histogram2d": [
           {
            "colorbar": {
             "outlinewidth": 0,
             "ticks": ""
            },
            "colorscale": [
             [
              0,
              "#0d0887"
             ],
             [
              0.1111111111111111,
              "#46039f"
             ],
             [
              0.2222222222222222,
              "#7201a8"
             ],
             [
              0.3333333333333333,
              "#9c179e"
             ],
             [
              0.4444444444444444,
              "#bd3786"
             ],
             [
              0.5555555555555556,
              "#d8576b"
             ],
             [
              0.6666666666666666,
              "#ed7953"
             ],
             [
              0.7777777777777778,
              "#fb9f3a"
             ],
             [
              0.8888888888888888,
              "#fdca26"
             ],
             [
              1,
              "#f0f921"
             ]
            ],
            "type": "histogram2d"
           }
          ],
          "histogram2dcontour": [
           {
            "colorbar": {
             "outlinewidth": 0,
             "ticks": ""
            },
            "colorscale": [
             [
              0,
              "#0d0887"
             ],
             [
              0.1111111111111111,
              "#46039f"
             ],
             [
              0.2222222222222222,
              "#7201a8"
             ],
             [
              0.3333333333333333,
              "#9c179e"
             ],
             [
              0.4444444444444444,
              "#bd3786"
             ],
             [
              0.5555555555555556,
              "#d8576b"
             ],
             [
              0.6666666666666666,
              "#ed7953"
             ],
             [
              0.7777777777777778,
              "#fb9f3a"
             ],
             [
              0.8888888888888888,
              "#fdca26"
             ],
             [
              1,
              "#f0f921"
             ]
            ],
            "type": "histogram2dcontour"
           }
          ],
          "mesh3d": [
           {
            "colorbar": {
             "outlinewidth": 0,
             "ticks": ""
            },
            "type": "mesh3d"
           }
          ],
          "parcoords": [
           {
            "line": {
             "colorbar": {
              "outlinewidth": 0,
              "ticks": ""
             }
            },
            "type": "parcoords"
           }
          ],
          "pie": [
           {
            "automargin": true,
            "type": "pie"
           }
          ],
          "scatter": [
           {
            "fillpattern": {
             "fillmode": "overlay",
             "size": 10,
             "solidity": 0.2
            },
            "type": "scatter"
           }
          ],
          "scatter3d": [
           {
            "line": {
             "colorbar": {
              "outlinewidth": 0,
              "ticks": ""
             }
            },
            "marker": {
             "colorbar": {
              "outlinewidth": 0,
              "ticks": ""
             }
            },
            "type": "scatter3d"
           }
          ],
          "scattercarpet": [
           {
            "marker": {
             "colorbar": {
              "outlinewidth": 0,
              "ticks": ""
             }
            },
            "type": "scattercarpet"
           }
          ],
          "scattergeo": [
           {
            "marker": {
             "colorbar": {
              "outlinewidth": 0,
              "ticks": ""
             }
            },
            "type": "scattergeo"
           }
          ],
          "scattergl": [
           {
            "marker": {
             "colorbar": {
              "outlinewidth": 0,
              "ticks": ""
             }
            },
            "type": "scattergl"
           }
          ],
          "scattermapbox": [
           {
            "marker": {
             "colorbar": {
              "outlinewidth": 0,
              "ticks": ""
             }
            },
            "type": "scattermapbox"
           }
          ],
          "scatterpolar": [
           {
            "marker": {
             "colorbar": {
              "outlinewidth": 0,
              "ticks": ""
             }
            },
            "type": "scatterpolar"
           }
          ],
          "scatterpolargl": [
           {
            "marker": {
             "colorbar": {
              "outlinewidth": 0,
              "ticks": ""
             }
            },
            "type": "scatterpolargl"
           }
          ],
          "scatterternary": [
           {
            "marker": {
             "colorbar": {
              "outlinewidth": 0,
              "ticks": ""
             }
            },
            "type": "scatterternary"
           }
          ],
          "surface": [
           {
            "colorbar": {
             "outlinewidth": 0,
             "ticks": ""
            },
            "colorscale": [
             [
              0,
              "#0d0887"
             ],
             [
              0.1111111111111111,
              "#46039f"
             ],
             [
              0.2222222222222222,
              "#7201a8"
             ],
             [
              0.3333333333333333,
              "#9c179e"
             ],
             [
              0.4444444444444444,
              "#bd3786"
             ],
             [
              0.5555555555555556,
              "#d8576b"
             ],
             [
              0.6666666666666666,
              "#ed7953"
             ],
             [
              0.7777777777777778,
              "#fb9f3a"
             ],
             [
              0.8888888888888888,
              "#fdca26"
             ],
             [
              1,
              "#f0f921"
             ]
            ],
            "type": "surface"
           }
          ],
          "table": [
           {
            "cells": {
             "fill": {
              "color": "#EBF0F8"
             },
             "line": {
              "color": "white"
             }
            },
            "header": {
             "fill": {
              "color": "#C8D4E3"
             },
             "line": {
              "color": "white"
             }
            },
            "type": "table"
           }
          ]
         },
         "layout": {
          "annotationdefaults": {
           "arrowcolor": "#2a3f5f",
           "arrowhead": 0,
           "arrowwidth": 1
          },
          "autotypenumbers": "strict",
          "coloraxis": {
           "colorbar": {
            "outlinewidth": 0,
            "ticks": ""
           }
          },
          "colorscale": {
           "diverging": [
            [
             0,
             "#8e0152"
            ],
            [
             0.1,
             "#c51b7d"
            ],
            [
             0.2,
             "#de77ae"
            ],
            [
             0.3,
             "#f1b6da"
            ],
            [
             0.4,
             "#fde0ef"
            ],
            [
             0.5,
             "#f7f7f7"
            ],
            [
             0.6,
             "#e6f5d0"
            ],
            [
             0.7,
             "#b8e186"
            ],
            [
             0.8,
             "#7fbc41"
            ],
            [
             0.9,
             "#4d9221"
            ],
            [
             1,
             "#276419"
            ]
           ],
           "sequential": [
            [
             0,
             "#0d0887"
            ],
            [
             0.1111111111111111,
             "#46039f"
            ],
            [
             0.2222222222222222,
             "#7201a8"
            ],
            [
             0.3333333333333333,
             "#9c179e"
            ],
            [
             0.4444444444444444,
             "#bd3786"
            ],
            [
             0.5555555555555556,
             "#d8576b"
            ],
            [
             0.6666666666666666,
             "#ed7953"
            ],
            [
             0.7777777777777778,
             "#fb9f3a"
            ],
            [
             0.8888888888888888,
             "#fdca26"
            ],
            [
             1,
             "#f0f921"
            ]
           ],
           "sequentialminus": [
            [
             0,
             "#0d0887"
            ],
            [
             0.1111111111111111,
             "#46039f"
            ],
            [
             0.2222222222222222,
             "#7201a8"
            ],
            [
             0.3333333333333333,
             "#9c179e"
            ],
            [
             0.4444444444444444,
             "#bd3786"
            ],
            [
             0.5555555555555556,
             "#d8576b"
            ],
            [
             0.6666666666666666,
             "#ed7953"
            ],
            [
             0.7777777777777778,
             "#fb9f3a"
            ],
            [
             0.8888888888888888,
             "#fdca26"
            ],
            [
             1,
             "#f0f921"
            ]
           ]
          },
          "colorway": [
           "#636efa",
           "#EF553B",
           "#00cc96",
           "#ab63fa",
           "#FFA15A",
           "#19d3f3",
           "#FF6692",
           "#B6E880",
           "#FF97FF",
           "#FECB52"
          ],
          "font": {
           "color": "#2a3f5f"
          },
          "geo": {
           "bgcolor": "white",
           "lakecolor": "white",
           "landcolor": "#E5ECF6",
           "showlakes": true,
           "showland": true,
           "subunitcolor": "white"
          },
          "hoverlabel": {
           "align": "left"
          },
          "hovermode": "closest",
          "mapbox": {
           "style": "light"
          },
          "paper_bgcolor": "white",
          "plot_bgcolor": "#E5ECF6",
          "polar": {
           "angularaxis": {
            "gridcolor": "white",
            "linecolor": "white",
            "ticks": ""
           },
           "bgcolor": "#E5ECF6",
           "radialaxis": {
            "gridcolor": "white",
            "linecolor": "white",
            "ticks": ""
           }
          },
          "scene": {
           "xaxis": {
            "backgroundcolor": "#E5ECF6",
            "gridcolor": "white",
            "gridwidth": 2,
            "linecolor": "white",
            "showbackground": true,
            "ticks": "",
            "zerolinecolor": "white"
           },
           "yaxis": {
            "backgroundcolor": "#E5ECF6",
            "gridcolor": "white",
            "gridwidth": 2,
            "linecolor": "white",
            "showbackground": true,
            "ticks": "",
            "zerolinecolor": "white"
           },
           "zaxis": {
            "backgroundcolor": "#E5ECF6",
            "gridcolor": "white",
            "gridwidth": 2,
            "linecolor": "white",
            "showbackground": true,
            "ticks": "",
            "zerolinecolor": "white"
           }
          },
          "shapedefaults": {
           "line": {
            "color": "#2a3f5f"
           }
          },
          "ternary": {
           "aaxis": {
            "gridcolor": "white",
            "linecolor": "white",
            "ticks": ""
           },
           "baxis": {
            "gridcolor": "white",
            "linecolor": "white",
            "ticks": ""
           },
           "bgcolor": "#E5ECF6",
           "caxis": {
            "gridcolor": "white",
            "linecolor": "white",
            "ticks": ""
           }
          },
          "title": {
           "x": 0.05
          },
          "xaxis": {
           "automargin": true,
           "gridcolor": "white",
           "linecolor": "white",
           "ticks": "",
           "title": {
            "standoff": 15
           },
           "zerolinecolor": "white",
           "zerolinewidth": 2
          },
          "yaxis": {
           "automargin": true,
           "gridcolor": "white",
           "linecolor": "white",
           "ticks": "",
           "title": {
            "standoff": 15
           },
           "zerolinecolor": "white",
           "zerolinewidth": 2
          }
         }
        },
        "title": {
         "text": "Top Years Coasters Introduced"
        },
        "xaxis": {
         "anchor": "y",
         "domain": [
          0,
          1
         ],
         "title": {
          "text": "Year Introduced"
         }
        },
        "yaxis": {
         "anchor": "x",
         "domain": [
          0,
          1
         ],
         "title": {
          "text": "Count"
         }
        }
       }
      }
     },
     "metadata": {},
     "output_type": "display_data"
    }
   ],
   "source": [
    "\n",
    "year_counts = df['Year_Introduced'].value_counts().head(10).reset_index()\n",
    "year_counts.columns = ['Year Introduced', 'Count']\n",
    "\n",
    "# Create the histogram using Plotly Express\n",
    "fig = px.bar(year_counts, x='Year Introduced', y='Count',\n",
    "             title='Top Years Coasters Introduced')\n",
    "fig.update_layout(xaxis_title='Year Introduced', yaxis_title='Count')\n",
    "fig.show()"
   ]
  },
  {
   "cell_type": "code",
   "execution_count": 9,
   "metadata": {},
   "outputs": [
    {
     "data": {
      "application/vnd.plotly.v1+json": {
       "config": {
        "plotlyServerURL": "https://plot.ly"
       },
       "data": [
        {
         "alignmentgroup": "True",
         "bingroup": "x",
         "hovertemplate": "Speed_mph=%{x}<br>count=%{y}<extra></extra>",
         "legendgroup": "",
         "marker": {
          "color": "#636efa",
          "pattern": {
           "shape": ""
          }
         },
         "name": "",
         "nbinsx": 20,
         "offsetgroup": "",
         "orientation": "v",
         "showlegend": false,
         "type": "histogram",
         "x": [
          6,
          null,
          null,
          null,
          null,
          null,
          10,
          null,
          null,
          null,
          null,
          null,
          10,
          40,
          null,
          37.3,
          40,
          null,
          null,
          null,
          53,
          null,
          45,
          42,
          35,
          45,
          40,
          null,
          50,
          55,
          55,
          null,
          45,
          32,
          45,
          48,
          null,
          null,
          null,
          60,
          null,
          null,
          60,
          60,
          null,
          null,
          40,
          48,
          null,
          40,
          31,
          null,
          null,
          35,
          45,
          35,
          null,
          58,
          40,
          50,
          null,
          50,
          25,
          55,
          40,
          null,
          40,
          50,
          55,
          null,
          25,
          null,
          25,
          37.3,
          null,
          null,
          25,
          null,
          35,
          49.7,
          27,
          null,
          40,
          null,
          null,
          49.7,
          35,
          50,
          50,
          29,
          null,
          55,
          42,
          null,
          14,
          44.7,
          null,
          31.1,
          null,
          35,
          10,
          37,
          46,
          27,
          null,
          53,
          45,
          35,
          null,
          30,
          57,
          null,
          null,
          null,
          null,
          35,
          35,
          46,
          null,
          56,
          null,
          36,
          27,
          50,
          10,
          48,
          50,
          50,
          null,
          50,
          null,
          50,
          5,
          null,
          40,
          55,
          62,
          null,
          58,
          42,
          36,
          45,
          null,
          45,
          35,
          null,
          50,
          57,
          60,
          null,
          45,
          60,
          55,
          32.9,
          60,
          50,
          58,
          null,
          64.8,
          35,
          35,
          null,
          46.6,
          45,
          56,
          40,
          6,
          35,
          41,
          40,
          50,
          45,
          50,
          41,
          57,
          35,
          66,
          34,
          52,
          49.7,
          34.8,
          16.2,
          55.9,
          46.6,
          39.8,
          39.8,
          55.9,
          51,
          40,
          43.5,
          40.4,
          54.1,
          50,
          null,
          null,
          17,
          32,
          55,
          55,
          50,
          null,
          55.9,
          null,
          30,
          null,
          28,
          35,
          37,
          48,
          47,
          16.8,
          50,
          47,
          45,
          31.1,
          null,
          32,
          34.1,
          55.9,
          40,
          35,
          51,
          22.4,
          null,
          43.5,
          60,
          59.7,
          45,
          null,
          37.3,
          null,
          null,
          30,
          29.8,
          55,
          50,
          47.8,
          39.8,
          44,
          32,
          null,
          35,
          35,
          45,
          null,
          40,
          40,
          49.7,
          40,
          22.4,
          22.4,
          40,
          32,
          55,
          null,
          45,
          41,
          68.3,
          null,
          47,
          48,
          28.9,
          35,
          55.9,
          55,
          50,
          65,
          45,
          50,
          55,
          35,
          null,
          37.3,
          54.5,
          47,
          55.9,
          68,
          65,
          72,
          54.7,
          52,
          53,
          null,
          31.1,
          47.8,
          46,
          55,
          47,
          55,
          23,
          50,
          65,
          null,
          53,
          24.9,
          50,
          44,
          45,
          70,
          35,
          45,
          50,
          34.2,
          50,
          47,
          85,
          null,
          35.4,
          50,
          55,
          45,
          46,
          50,
          35,
          52,
          15,
          null,
          60,
          15,
          40,
          35,
          null,
          56.5,
          40,
          40,
          15,
          70,
          22.4,
          62.1,
          null,
          50,
          55,
          50,
          37.3,
          41,
          null,
          50,
          21.7,
          18.6,
          36,
          60,
          45,
          35,
          48,
          null,
          48,
          51,
          30,
          50,
          55,
          49.7,
          40,
          80,
          48.5,
          66.5,
          51,
          50,
          50.3,
          57,
          21.7,
          53,
          74,
          71.5,
          52.4,
          null,
          54.7,
          null,
          50,
          52.8,
          null,
          34,
          43,
          48,
          null,
          58,
          65,
          50.2,
          49.7,
          55,
          35,
          50,
          45,
          44,
          47,
          49.7,
          55,
          48,
          50,
          null,
          21.7,
          25,
          31.1,
          54,
          81,
          21.7,
          50,
          30,
          48,
          60,
          40,
          60,
          null,
          35,
          33,
          25,
          40,
          47,
          27.7,
          55,
          null,
          75,
          50,
          28,
          67,
          50,
          47,
          63,
          49.7,
          50,
          63,
          50,
          null,
          53,
          62.1,
          35,
          67,
          28,
          46,
          75,
          100,
          52,
          100,
          40,
          60,
          47,
          35,
          65,
          49.7,
          47,
          null,
          55,
          56,
          58,
          50,
          null,
          49.7,
          null,
          25,
          75,
          50,
          70,
          68.4,
          56,
          28,
          65,
          50.5,
          43.5,
          8,
          57,
          21.7,
          52,
          49.7,
          27,
          40,
          70,
          28,
          15,
          62,
          73,
          49.7,
          50,
          61,
          47,
          10,
          60,
          29.1,
          54,
          11,
          22.4,
          16,
          67,
          50,
          76,
          60,
          null,
          null,
          49.7,
          33,
          30,
          56,
          41.2,
          64,
          31,
          60,
          64,
          null,
          null,
          73,
          null,
          50.5,
          57,
          27,
          50,
          65,
          73,
          63,
          34,
          49.7,
          50,
          49.7,
          51,
          50,
          28,
          25,
          15,
          21.7,
          49.7,
          47,
          66.3,
          60,
          22.4,
          50,
          68.3,
          65,
          47,
          28,
          30,
          28.5,
          28,
          85,
          28,
          55,
          31.1,
          65,
          65,
          59,
          51,
          24.9,
          65,
          57,
          93,
          25,
          70,
          null,
          null,
          28,
          21.7,
          28.5,
          22.4,
          43.5,
          78.4,
          70,
          47,
          95,
          73,
          77,
          70,
          21.7,
          57.2,
          59,
          13,
          55.9,
          47,
          50,
          55,
          52,
          68.4,
          45,
          65.6,
          111.8,
          74.6,
          26,
          65.6,
          52.8,
          27,
          80,
          55,
          53.4,
          35,
          49.7,
          27,
          80,
          85,
          26,
          58,
          65,
          57.8,
          85,
          70,
          37.3,
          66,
          null,
          50,
          35,
          54.7,
          55,
          49.7,
          45,
          26,
          25.7,
          46.6,
          65.9,
          63,
          35,
          20,
          47,
          29.1,
          28,
          57,
          20.5,
          26,
          27.7,
          78.9,
          null,
          62.1,
          51,
          null,
          22,
          50,
          72,
          37.2,
          76,
          82,
          46.6,
          55.9,
          50,
          45,
          null,
          null,
          null,
          43.5,
          null,
          40,
          26,
          49.7,
          45,
          63,
          37.3,
          68,
          51,
          26,
          80.8,
          120,
          41,
          45,
          34.2,
          46.6,
          47.8,
          null,
          31,
          43.5,
          56,
          30,
          null,
          53,
          51,
          29.1,
          40,
          28,
          null,
          55,
          37.3,
          31,
          37.3,
          75,
          28,
          74.6,
          49.7,
          53.7,
          25.7,
          36,
          49.7,
          37.3,
          49.7,
          null,
          37.3,
          47,
          36,
          null,
          43.5,
          60,
          53,
          40,
          40,
          46.6,
          128,
          53,
          31,
          64,
          37.3,
          61.1,
          null,
          70,
          44,
          62.1,
          29.1,
          45,
          49.7,
          51,
          78.3,
          50,
          35,
          53.7,
          70,
          68.4,
          null,
          40,
          30.1,
          47,
          54.9,
          60,
          55.9,
          59,
          80,
          28,
          62,
          48,
          70,
          67,
          65,
          51,
          37.7,
          42.9,
          50,
          16.8,
          45,
          83.9,
          24.9,
          71,
          55.9,
          50,
          null,
          null,
          37,
          40,
          34.2,
          70,
          44.7,
          53,
          43.5,
          31,
          55.9,
          43.5,
          51.3,
          37,
          null,
          null,
          54,
          55,
          50,
          48,
          40,
          77.1,
          43.5,
          30,
          68.4,
          65,
          65,
          58,
          51,
          28.5,
          50,
          43.5,
          52.8,
          31.1,
          38,
          49.7,
          31,
          38,
          70,
          60,
          46.6,
          null,
          37.3,
          null,
          43.5,
          41,
          30,
          64.6,
          55,
          62,
          50.1,
          62,
          30,
          80,
          68.4,
          62.1,
          43.5,
          26.5,
          65,
          null,
          37.3,
          74.6,
          null,
          56,
          41,
          51.2,
          22.4,
          55,
          77,
          52,
          47,
          45.6,
          24.9,
          56,
          null,
          51,
          null,
          60,
          49.7,
          28.5,
          59,
          149.1,
          52.8,
          75,
          90,
          46.6,
          25,
          55.9,
          40,
          null,
          40,
          50,
          null,
          42,
          null,
          36,
          35,
          37.3,
          37,
          null,
          null,
          31,
          65.2,
          60,
          15,
          52,
          43.5,
          28,
          63,
          41,
          54.7,
          64,
          35,
          65,
          55.9,
          null,
          21.7,
          54.7,
          25.7,
          62.1,
          28,
          41,
          44,
          22.4,
          37,
          61.2,
          35,
          40,
          54.7,
          25,
          44.7,
          34,
          null,
          78.3,
          31.1,
          55,
          65.6,
          52,
          35,
          92,
          43,
          56,
          40.4,
          83.3,
          75,
          50,
          62,
          59,
          27.7,
          50,
          53,
          61,
          16,
          62.1,
          55,
          52.8,
          47,
          null,
          null,
          42.5,
          24,
          34.2,
          70,
          67,
          53.7,
          60,
          70,
          31,
          55.9,
          65.2,
          46.6,
          68,
          99.4,
          52.8,
          27,
          43.5,
          44.3,
          null,
          35,
          51.6,
          19.3,
          68,
          51,
          null,
          30.4,
          34.5,
          28.5,
          62.1,
          72,
          null,
          62.1,
          55,
          45,
          58,
          67,
          29.1,
          33,
          22.4,
          34,
          70,
          60,
          56,
          38.5,
          null,
          55,
          55.9,
          55.9,
          38,
          70,
          51,
          95,
          52.8,
          55,
          null,
          64.9,
          null,
          40,
          62.2,
          null,
          null,
          31.1,
          60,
          49.7,
          62,
          55.9,
          78.9,
          40,
          57,
          55,
          40.4,
          40,
          28.5,
          74.6,
          62,
          49.2,
          53,
          73,
          54.1,
          73,
          65.2,
          62.8,
          38.5,
          47,
          34,
          52,
          72.7,
          38,
          59.3,
          75,
          71.5,
          24.9,
          71.5,
          65,
          59,
          45,
          48,
          65,
          59,
          48.5,
          53,
          45,
          32.3,
          111.8,
          55.9,
          44,
          38,
          38,
          38,
          44,
          45,
          62,
          59,
          57,
          88.2,
          52.8,
          55,
          null,
          52,
          null,
          40,
          74,
          52.8,
          34.2,
          50.3,
          50,
          54,
          65.2,
          43.6,
          38,
          52,
          38,
          50,
          49.7,
          46.6,
          62.1,
          50.2,
          55,
          null,
          66.2,
          50,
          66.5,
          null,
          35,
          78,
          52.8,
          37,
          18.6,
          28.6,
          75,
          28,
          65.9,
          62,
          62.1,
          57.2,
          80.8,
          75.2,
          76,
          48.5,
          22.4,
          34.2,
          91,
          62.1,
          47.8,
          55,
          31.1,
          55,
          62.1,
          34,
          28.5,
          58,
          70.2,
          49,
          null,
          null,
          null,
          55.9,
          65.2,
          null,
          52,
          55.9,
          70,
          62.1,
          64,
          56,
          60,
          63,
          59,
          null,
          52,
          76,
          49.7,
          53,
          73,
          59.3,
          34,
          58
         ],
         "xaxis": "x",
         "yaxis": "y"
        }
       ],
       "layout": {
        "barmode": "relative",
        "legend": {
         "tracegroupgap": 0
        },
        "template": {
         "data": {
          "bar": [
           {
            "error_x": {
             "color": "#2a3f5f"
            },
            "error_y": {
             "color": "#2a3f5f"
            },
            "marker": {
             "line": {
              "color": "#E5ECF6",
              "width": 0.5
             },
             "pattern": {
              "fillmode": "overlay",
              "size": 10,
              "solidity": 0.2
             }
            },
            "type": "bar"
           }
          ],
          "barpolar": [
           {
            "marker": {
             "line": {
              "color": "#E5ECF6",
              "width": 0.5
             },
             "pattern": {
              "fillmode": "overlay",
              "size": 10,
              "solidity": 0.2
             }
            },
            "type": "barpolar"
           }
          ],
          "carpet": [
           {
            "aaxis": {
             "endlinecolor": "#2a3f5f",
             "gridcolor": "white",
             "linecolor": "white",
             "minorgridcolor": "white",
             "startlinecolor": "#2a3f5f"
            },
            "baxis": {
             "endlinecolor": "#2a3f5f",
             "gridcolor": "white",
             "linecolor": "white",
             "minorgridcolor": "white",
             "startlinecolor": "#2a3f5f"
            },
            "type": "carpet"
           }
          ],
          "choropleth": [
           {
            "colorbar": {
             "outlinewidth": 0,
             "ticks": ""
            },
            "type": "choropleth"
           }
          ],
          "contour": [
           {
            "colorbar": {
             "outlinewidth": 0,
             "ticks": ""
            },
            "colorscale": [
             [
              0,
              "#0d0887"
             ],
             [
              0.1111111111111111,
              "#46039f"
             ],
             [
              0.2222222222222222,
              "#7201a8"
             ],
             [
              0.3333333333333333,
              "#9c179e"
             ],
             [
              0.4444444444444444,
              "#bd3786"
             ],
             [
              0.5555555555555556,
              "#d8576b"
             ],
             [
              0.6666666666666666,
              "#ed7953"
             ],
             [
              0.7777777777777778,
              "#fb9f3a"
             ],
             [
              0.8888888888888888,
              "#fdca26"
             ],
             [
              1,
              "#f0f921"
             ]
            ],
            "type": "contour"
           }
          ],
          "contourcarpet": [
           {
            "colorbar": {
             "outlinewidth": 0,
             "ticks": ""
            },
            "type": "contourcarpet"
           }
          ],
          "heatmap": [
           {
            "colorbar": {
             "outlinewidth": 0,
             "ticks": ""
            },
            "colorscale": [
             [
              0,
              "#0d0887"
             ],
             [
              0.1111111111111111,
              "#46039f"
             ],
             [
              0.2222222222222222,
              "#7201a8"
             ],
             [
              0.3333333333333333,
              "#9c179e"
             ],
             [
              0.4444444444444444,
              "#bd3786"
             ],
             [
              0.5555555555555556,
              "#d8576b"
             ],
             [
              0.6666666666666666,
              "#ed7953"
             ],
             [
              0.7777777777777778,
              "#fb9f3a"
             ],
             [
              0.8888888888888888,
              "#fdca26"
             ],
             [
              1,
              "#f0f921"
             ]
            ],
            "type": "heatmap"
           }
          ],
          "heatmapgl": [
           {
            "colorbar": {
             "outlinewidth": 0,
             "ticks": ""
            },
            "colorscale": [
             [
              0,
              "#0d0887"
             ],
             [
              0.1111111111111111,
              "#46039f"
             ],
             [
              0.2222222222222222,
              "#7201a8"
             ],
             [
              0.3333333333333333,
              "#9c179e"
             ],
             [
              0.4444444444444444,
              "#bd3786"
             ],
             [
              0.5555555555555556,
              "#d8576b"
             ],
             [
              0.6666666666666666,
              "#ed7953"
             ],
             [
              0.7777777777777778,
              "#fb9f3a"
             ],
             [
              0.8888888888888888,
              "#fdca26"
             ],
             [
              1,
              "#f0f921"
             ]
            ],
            "type": "heatmapgl"
           }
          ],
          "histogram": [
           {
            "marker": {
             "pattern": {
              "fillmode": "overlay",
              "size": 10,
              "solidity": 0.2
             }
            },
            "type": "histogram"
           }
          ],
          "histogram2d": [
           {
            "colorbar": {
             "outlinewidth": 0,
             "ticks": ""
            },
            "colorscale": [
             [
              0,
              "#0d0887"
             ],
             [
              0.1111111111111111,
              "#46039f"
             ],
             [
              0.2222222222222222,
              "#7201a8"
             ],
             [
              0.3333333333333333,
              "#9c179e"
             ],
             [
              0.4444444444444444,
              "#bd3786"
             ],
             [
              0.5555555555555556,
              "#d8576b"
             ],
             [
              0.6666666666666666,
              "#ed7953"
             ],
             [
              0.7777777777777778,
              "#fb9f3a"
             ],
             [
              0.8888888888888888,
              "#fdca26"
             ],
             [
              1,
              "#f0f921"
             ]
            ],
            "type": "histogram2d"
           }
          ],
          "histogram2dcontour": [
           {
            "colorbar": {
             "outlinewidth": 0,
             "ticks": ""
            },
            "colorscale": [
             [
              0,
              "#0d0887"
             ],
             [
              0.1111111111111111,
              "#46039f"
             ],
             [
              0.2222222222222222,
              "#7201a8"
             ],
             [
              0.3333333333333333,
              "#9c179e"
             ],
             [
              0.4444444444444444,
              "#bd3786"
             ],
             [
              0.5555555555555556,
              "#d8576b"
             ],
             [
              0.6666666666666666,
              "#ed7953"
             ],
             [
              0.7777777777777778,
              "#fb9f3a"
             ],
             [
              0.8888888888888888,
              "#fdca26"
             ],
             [
              1,
              "#f0f921"
             ]
            ],
            "type": "histogram2dcontour"
           }
          ],
          "mesh3d": [
           {
            "colorbar": {
             "outlinewidth": 0,
             "ticks": ""
            },
            "type": "mesh3d"
           }
          ],
          "parcoords": [
           {
            "line": {
             "colorbar": {
              "outlinewidth": 0,
              "ticks": ""
             }
            },
            "type": "parcoords"
           }
          ],
          "pie": [
           {
            "automargin": true,
            "type": "pie"
           }
          ],
          "scatter": [
           {
            "fillpattern": {
             "fillmode": "overlay",
             "size": 10,
             "solidity": 0.2
            },
            "type": "scatter"
           }
          ],
          "scatter3d": [
           {
            "line": {
             "colorbar": {
              "outlinewidth": 0,
              "ticks": ""
             }
            },
            "marker": {
             "colorbar": {
              "outlinewidth": 0,
              "ticks": ""
             }
            },
            "type": "scatter3d"
           }
          ],
          "scattercarpet": [
           {
            "marker": {
             "colorbar": {
              "outlinewidth": 0,
              "ticks": ""
             }
            },
            "type": "scattercarpet"
           }
          ],
          "scattergeo": [
           {
            "marker": {
             "colorbar": {
              "outlinewidth": 0,
              "ticks": ""
             }
            },
            "type": "scattergeo"
           }
          ],
          "scattergl": [
           {
            "marker": {
             "colorbar": {
              "outlinewidth": 0,
              "ticks": ""
             }
            },
            "type": "scattergl"
           }
          ],
          "scattermapbox": [
           {
            "marker": {
             "colorbar": {
              "outlinewidth": 0,
              "ticks": ""
             }
            },
            "type": "scattermapbox"
           }
          ],
          "scatterpolar": [
           {
            "marker": {
             "colorbar": {
              "outlinewidth": 0,
              "ticks": ""
             }
            },
            "type": "scatterpolar"
           }
          ],
          "scatterpolargl": [
           {
            "marker": {
             "colorbar": {
              "outlinewidth": 0,
              "ticks": ""
             }
            },
            "type": "scatterpolargl"
           }
          ],
          "scatterternary": [
           {
            "marker": {
             "colorbar": {
              "outlinewidth": 0,
              "ticks": ""
             }
            },
            "type": "scatterternary"
           }
          ],
          "surface": [
           {
            "colorbar": {
             "outlinewidth": 0,
             "ticks": ""
            },
            "colorscale": [
             [
              0,
              "#0d0887"
             ],
             [
              0.1111111111111111,
              "#46039f"
             ],
             [
              0.2222222222222222,
              "#7201a8"
             ],
             [
              0.3333333333333333,
              "#9c179e"
             ],
             [
              0.4444444444444444,
              "#bd3786"
             ],
             [
              0.5555555555555556,
              "#d8576b"
             ],
             [
              0.6666666666666666,
              "#ed7953"
             ],
             [
              0.7777777777777778,
              "#fb9f3a"
             ],
             [
              0.8888888888888888,
              "#fdca26"
             ],
             [
              1,
              "#f0f921"
             ]
            ],
            "type": "surface"
           }
          ],
          "table": [
           {
            "cells": {
             "fill": {
              "color": "#EBF0F8"
             },
             "line": {
              "color": "white"
             }
            },
            "header": {
             "fill": {
              "color": "#C8D4E3"
             },
             "line": {
              "color": "white"
             }
            },
            "type": "table"
           }
          ]
         },
         "layout": {
          "annotationdefaults": {
           "arrowcolor": "#2a3f5f",
           "arrowhead": 0,
           "arrowwidth": 1
          },
          "autotypenumbers": "strict",
          "coloraxis": {
           "colorbar": {
            "outlinewidth": 0,
            "ticks": ""
           }
          },
          "colorscale": {
           "diverging": [
            [
             0,
             "#8e0152"
            ],
            [
             0.1,
             "#c51b7d"
            ],
            [
             0.2,
             "#de77ae"
            ],
            [
             0.3,
             "#f1b6da"
            ],
            [
             0.4,
             "#fde0ef"
            ],
            [
             0.5,
             "#f7f7f7"
            ],
            [
             0.6,
             "#e6f5d0"
            ],
            [
             0.7,
             "#b8e186"
            ],
            [
             0.8,
             "#7fbc41"
            ],
            [
             0.9,
             "#4d9221"
            ],
            [
             1,
             "#276419"
            ]
           ],
           "sequential": [
            [
             0,
             "#0d0887"
            ],
            [
             0.1111111111111111,
             "#46039f"
            ],
            [
             0.2222222222222222,
             "#7201a8"
            ],
            [
             0.3333333333333333,
             "#9c179e"
            ],
            [
             0.4444444444444444,
             "#bd3786"
            ],
            [
             0.5555555555555556,
             "#d8576b"
            ],
            [
             0.6666666666666666,
             "#ed7953"
            ],
            [
             0.7777777777777778,
             "#fb9f3a"
            ],
            [
             0.8888888888888888,
             "#fdca26"
            ],
            [
             1,
             "#f0f921"
            ]
           ],
           "sequentialminus": [
            [
             0,
             "#0d0887"
            ],
            [
             0.1111111111111111,
             "#46039f"
            ],
            [
             0.2222222222222222,
             "#7201a8"
            ],
            [
             0.3333333333333333,
             "#9c179e"
            ],
            [
             0.4444444444444444,
             "#bd3786"
            ],
            [
             0.5555555555555556,
             "#d8576b"
            ],
            [
             0.6666666666666666,
             "#ed7953"
            ],
            [
             0.7777777777777778,
             "#fb9f3a"
            ],
            [
             0.8888888888888888,
             "#fdca26"
            ],
            [
             1,
             "#f0f921"
            ]
           ]
          },
          "colorway": [
           "#636efa",
           "#EF553B",
           "#00cc96",
           "#ab63fa",
           "#FFA15A",
           "#19d3f3",
           "#FF6692",
           "#B6E880",
           "#FF97FF",
           "#FECB52"
          ],
          "font": {
           "color": "#2a3f5f"
          },
          "geo": {
           "bgcolor": "white",
           "lakecolor": "white",
           "landcolor": "#E5ECF6",
           "showlakes": true,
           "showland": true,
           "subunitcolor": "white"
          },
          "hoverlabel": {
           "align": "left"
          },
          "hovermode": "closest",
          "mapbox": {
           "style": "light"
          },
          "paper_bgcolor": "white",
          "plot_bgcolor": "#E5ECF6",
          "polar": {
           "angularaxis": {
            "gridcolor": "white",
            "linecolor": "white",
            "ticks": ""
           },
           "bgcolor": "#E5ECF6",
           "radialaxis": {
            "gridcolor": "white",
            "linecolor": "white",
            "ticks": ""
           }
          },
          "scene": {
           "xaxis": {
            "backgroundcolor": "#E5ECF6",
            "gridcolor": "white",
            "gridwidth": 2,
            "linecolor": "white",
            "showbackground": true,
            "ticks": "",
            "zerolinecolor": "white"
           },
           "yaxis": {
            "backgroundcolor": "#E5ECF6",
            "gridcolor": "white",
            "gridwidth": 2,
            "linecolor": "white",
            "showbackground": true,
            "ticks": "",
            "zerolinecolor": "white"
           },
           "zaxis": {
            "backgroundcolor": "#E5ECF6",
            "gridcolor": "white",
            "gridwidth": 2,
            "linecolor": "white",
            "showbackground": true,
            "ticks": "",
            "zerolinecolor": "white"
           }
          },
          "shapedefaults": {
           "line": {
            "color": "#2a3f5f"
           }
          },
          "ternary": {
           "aaxis": {
            "gridcolor": "white",
            "linecolor": "white",
            "ticks": ""
           },
           "baxis": {
            "gridcolor": "white",
            "linecolor": "white",
            "ticks": ""
           },
           "bgcolor": "#E5ECF6",
           "caxis": {
            "gridcolor": "white",
            "linecolor": "white",
            "ticks": ""
           }
          },
          "title": {
           "x": 0.05
          },
          "xaxis": {
           "automargin": true,
           "gridcolor": "white",
           "linecolor": "white",
           "ticks": "",
           "title": {
            "standoff": 15
           },
           "zerolinecolor": "white",
           "zerolinewidth": 2
          },
          "yaxis": {
           "automargin": true,
           "gridcolor": "white",
           "linecolor": "white",
           "ticks": "",
           "title": {
            "standoff": 15
           },
           "zerolinecolor": "white",
           "zerolinewidth": 2
          }
         }
        },
        "title": {
         "text": "Coasters Speed (mph)"
        },
        "xaxis": {
         "anchor": "y",
         "domain": [
          0,
          1
         ],
         "title": {
          "text": "Speed (mph)"
         }
        },
        "yaxis": {
         "anchor": "x",
         "domain": [
          0,
          1
         ],
         "title": {
          "text": "Count"
         }
        }
       }
      }
     },
     "metadata": {},
     "output_type": "display_data"
    }
   ],
   "source": [
    "#to have a clear view of distributions\n",
    "fig = px.histogram(df, x='Speed_mph', nbins=20, title='Coasters Speed (mph)')\n",
    "fig.update_layout(xaxis_title='Speed (mph)', yaxis_title='Count')\n",
    "fig.show()"
   ]
  },
  {
   "cell_type": "code",
   "execution_count": 10,
   "metadata": {},
   "outputs": [
    {
     "data": {
      "application/vnd.plotly.v1+json": {
       "config": {
        "plotlyServerURL": "https://plot.ly"
       },
       "data": [
        {
         "hovertemplate": "Speed_mph=%{x}<br>Height_ft=%{y}<extra></extra>",
         "legendgroup": "",
         "marker": {
          "color": "#636efa",
          "symbol": "circle"
         },
         "mode": "markers",
         "name": "",
         "showlegend": false,
         "type": "scattergl",
         "x": [
          6,
          null,
          null,
          null,
          null,
          null,
          10,
          null,
          null,
          null,
          null,
          null,
          10,
          40,
          null,
          37.3,
          40,
          null,
          null,
          null,
          53,
          null,
          45,
          42,
          35,
          45,
          40,
          null,
          50,
          55,
          55,
          null,
          45,
          32,
          45,
          48,
          null,
          null,
          null,
          60,
          null,
          null,
          60,
          60,
          null,
          null,
          40,
          48,
          null,
          40,
          31,
          null,
          null,
          35,
          45,
          35,
          null,
          58,
          40,
          50,
          null,
          50,
          25,
          55,
          40,
          null,
          40,
          50,
          55,
          null,
          25,
          null,
          25,
          37.3,
          null,
          null,
          25,
          null,
          35,
          49.7,
          27,
          null,
          40,
          null,
          null,
          49.7,
          35,
          50,
          50,
          29,
          null,
          55,
          42,
          null,
          14,
          44.7,
          null,
          31.1,
          null,
          35,
          10,
          37,
          46,
          27,
          null,
          53,
          45,
          35,
          null,
          30,
          57,
          null,
          null,
          null,
          null,
          35,
          35,
          46,
          null,
          56,
          null,
          36,
          27,
          50,
          10,
          48,
          50,
          50,
          null,
          50,
          null,
          50,
          5,
          null,
          40,
          55,
          62,
          null,
          58,
          42,
          36,
          45,
          null,
          45,
          35,
          null,
          50,
          57,
          60,
          null,
          45,
          60,
          55,
          32.9,
          60,
          50,
          58,
          null,
          64.8,
          35,
          35,
          null,
          46.6,
          45,
          56,
          40,
          6,
          35,
          41,
          40,
          50,
          45,
          50,
          41,
          57,
          35,
          66,
          34,
          52,
          49.7,
          34.8,
          16.2,
          55.9,
          46.6,
          39.8,
          39.8,
          55.9,
          51,
          40,
          43.5,
          40.4,
          54.1,
          50,
          null,
          null,
          17,
          32,
          55,
          55,
          50,
          null,
          55.9,
          null,
          30,
          null,
          28,
          35,
          37,
          48,
          47,
          16.8,
          50,
          47,
          45,
          31.1,
          null,
          32,
          34.1,
          55.9,
          40,
          35,
          51,
          22.4,
          null,
          43.5,
          60,
          59.7,
          45,
          null,
          37.3,
          null,
          null,
          30,
          29.8,
          55,
          50,
          47.8,
          39.8,
          44,
          32,
          null,
          35,
          35,
          45,
          null,
          40,
          40,
          49.7,
          40,
          22.4,
          22.4,
          40,
          32,
          55,
          null,
          45,
          41,
          68.3,
          null,
          47,
          48,
          28.9,
          35,
          55.9,
          55,
          50,
          65,
          45,
          50,
          55,
          35,
          null,
          37.3,
          54.5,
          47,
          55.9,
          68,
          65,
          72,
          54.7,
          52,
          53,
          null,
          31.1,
          47.8,
          46,
          55,
          47,
          55,
          23,
          50,
          65,
          null,
          53,
          24.9,
          50,
          44,
          45,
          70,
          35,
          45,
          50,
          34.2,
          50,
          47,
          85,
          null,
          35.4,
          50,
          55,
          45,
          46,
          50,
          35,
          52,
          15,
          null,
          60,
          15,
          40,
          35,
          null,
          56.5,
          40,
          40,
          15,
          70,
          22.4,
          62.1,
          null,
          50,
          55,
          50,
          37.3,
          41,
          null,
          50,
          21.7,
          18.6,
          36,
          60,
          45,
          35,
          48,
          null,
          48,
          51,
          30,
          50,
          55,
          49.7,
          40,
          80,
          48.5,
          66.5,
          51,
          50,
          50.3,
          57,
          21.7,
          53,
          74,
          71.5,
          52.4,
          null,
          54.7,
          null,
          50,
          52.8,
          null,
          34,
          43,
          48,
          null,
          58,
          65,
          50.2,
          49.7,
          55,
          35,
          50,
          45,
          44,
          47,
          49.7,
          55,
          48,
          50,
          null,
          21.7,
          25,
          31.1,
          54,
          81,
          21.7,
          50,
          30,
          48,
          60,
          40,
          60,
          null,
          35,
          33,
          25,
          40,
          47,
          27.7,
          55,
          null,
          75,
          50,
          28,
          67,
          50,
          47,
          63,
          49.7,
          50,
          63,
          50,
          null,
          53,
          62.1,
          35,
          67,
          28,
          46,
          75,
          100,
          52,
          100,
          40,
          60,
          47,
          35,
          65,
          49.7,
          47,
          null,
          55,
          56,
          58,
          50,
          null,
          49.7,
          null,
          25,
          75,
          50,
          70,
          68.4,
          56,
          28,
          65,
          50.5,
          43.5,
          8,
          57,
          21.7,
          52,
          49.7,
          27,
          40,
          70,
          28,
          15,
          62,
          73,
          49.7,
          50,
          61,
          47,
          10,
          60,
          29.1,
          54,
          11,
          22.4,
          16,
          67,
          50,
          76,
          60,
          null,
          null,
          49.7,
          33,
          30,
          56,
          41.2,
          64,
          31,
          60,
          64,
          null,
          null,
          73,
          null,
          50.5,
          57,
          27,
          50,
          65,
          73,
          63,
          34,
          49.7,
          50,
          49.7,
          51,
          50,
          28,
          25,
          15,
          21.7,
          49.7,
          47,
          66.3,
          60,
          22.4,
          50,
          68.3,
          65,
          47,
          28,
          30,
          28.5,
          28,
          85,
          28,
          55,
          31.1,
          65,
          65,
          59,
          51,
          24.9,
          65,
          57,
          93,
          25,
          70,
          null,
          null,
          28,
          21.7,
          28.5,
          22.4,
          43.5,
          78.4,
          70,
          47,
          95,
          73,
          77,
          70,
          21.7,
          57.2,
          59,
          13,
          55.9,
          47,
          50,
          55,
          52,
          68.4,
          45,
          65.6,
          111.8,
          74.6,
          26,
          65.6,
          52.8,
          27,
          80,
          55,
          53.4,
          35,
          49.7,
          27,
          80,
          85,
          26,
          58,
          65,
          57.8,
          85,
          70,
          37.3,
          66,
          null,
          50,
          35,
          54.7,
          55,
          49.7,
          45,
          26,
          25.7,
          46.6,
          65.9,
          63,
          35,
          20,
          47,
          29.1,
          28,
          57,
          20.5,
          26,
          27.7,
          78.9,
          null,
          62.1,
          51,
          null,
          22,
          50,
          72,
          37.2,
          76,
          82,
          46.6,
          55.9,
          50,
          45,
          null,
          null,
          null,
          43.5,
          null,
          40,
          26,
          49.7,
          45,
          63,
          37.3,
          68,
          51,
          26,
          80.8,
          120,
          41,
          45,
          34.2,
          46.6,
          47.8,
          null,
          31,
          43.5,
          56,
          30,
          null,
          53,
          51,
          29.1,
          40,
          28,
          null,
          55,
          37.3,
          31,
          37.3,
          75,
          28,
          74.6,
          49.7,
          53.7,
          25.7,
          36,
          49.7,
          37.3,
          49.7,
          null,
          37.3,
          47,
          36,
          null,
          43.5,
          60,
          53,
          40,
          40,
          46.6,
          128,
          53,
          31,
          64,
          37.3,
          61.1,
          null,
          70,
          44,
          62.1,
          29.1,
          45,
          49.7,
          51,
          78.3,
          50,
          35,
          53.7,
          70,
          68.4,
          null,
          40,
          30.1,
          47,
          54.9,
          60,
          55.9,
          59,
          80,
          28,
          62,
          48,
          70,
          67,
          65,
          51,
          37.7,
          42.9,
          50,
          16.8,
          45,
          83.9,
          24.9,
          71,
          55.9,
          50,
          null,
          null,
          37,
          40,
          34.2,
          70,
          44.7,
          53,
          43.5,
          31,
          55.9,
          43.5,
          51.3,
          37,
          null,
          null,
          54,
          55,
          50,
          48,
          40,
          77.1,
          43.5,
          30,
          68.4,
          65,
          65,
          58,
          51,
          28.5,
          50,
          43.5,
          52.8,
          31.1,
          38,
          49.7,
          31,
          38,
          70,
          60,
          46.6,
          null,
          37.3,
          null,
          43.5,
          41,
          30,
          64.6,
          55,
          62,
          50.1,
          62,
          30,
          80,
          68.4,
          62.1,
          43.5,
          26.5,
          65,
          null,
          37.3,
          74.6,
          null,
          56,
          41,
          51.2,
          22.4,
          55,
          77,
          52,
          47,
          45.6,
          24.9,
          56,
          null,
          51,
          null,
          60,
          49.7,
          28.5,
          59,
          149.1,
          52.8,
          75,
          90,
          46.6,
          25,
          55.9,
          40,
          null,
          40,
          50,
          null,
          42,
          null,
          36,
          35,
          37.3,
          37,
          null,
          null,
          31,
          65.2,
          60,
          15,
          52,
          43.5,
          28,
          63,
          41,
          54.7,
          64,
          35,
          65,
          55.9,
          null,
          21.7,
          54.7,
          25.7,
          62.1,
          28,
          41,
          44,
          22.4,
          37,
          61.2,
          35,
          40,
          54.7,
          25,
          44.7,
          34,
          null,
          78.3,
          31.1,
          55,
          65.6,
          52,
          35,
          92,
          43,
          56,
          40.4,
          83.3,
          75,
          50,
          62,
          59,
          27.7,
          50,
          53,
          61,
          16,
          62.1,
          55,
          52.8,
          47,
          null,
          null,
          42.5,
          24,
          34.2,
          70,
          67,
          53.7,
          60,
          70,
          31,
          55.9,
          65.2,
          46.6,
          68,
          99.4,
          52.8,
          27,
          43.5,
          44.3,
          null,
          35,
          51.6,
          19.3,
          68,
          51,
          null,
          30.4,
          34.5,
          28.5,
          62.1,
          72,
          null,
          62.1,
          55,
          45,
          58,
          67,
          29.1,
          33,
          22.4,
          34,
          70,
          60,
          56,
          38.5,
          null,
          55,
          55.9,
          55.9,
          38,
          70,
          51,
          95,
          52.8,
          55,
          null,
          64.9,
          null,
          40,
          62.2,
          null,
          null,
          31.1,
          60,
          49.7,
          62,
          55.9,
          78.9,
          40,
          57,
          55,
          40.4,
          40,
          28.5,
          74.6,
          62,
          49.2,
          53,
          73,
          54.1,
          73,
          65.2,
          62.8,
          38.5,
          47,
          34,
          52,
          72.7,
          38,
          59.3,
          75,
          71.5,
          24.9,
          71.5,
          65,
          59,
          45,
          48,
          65,
          59,
          48.5,
          53,
          45,
          32.3,
          111.8,
          55.9,
          44,
          38,
          38,
          38,
          44,
          45,
          62,
          59,
          57,
          88.2,
          52.8,
          55,
          null,
          52,
          null,
          40,
          74,
          52.8,
          34.2,
          50.3,
          50,
          54,
          65.2,
          43.6,
          38,
          52,
          38,
          50,
          49.7,
          46.6,
          62.1,
          50.2,
          55,
          null,
          66.2,
          50,
          66.5,
          null,
          35,
          78,
          52.8,
          37,
          18.6,
          28.6,
          75,
          28,
          65.9,
          62,
          62.1,
          57.2,
          80.8,
          75.2,
          76,
          48.5,
          22.4,
          34.2,
          91,
          62.1,
          47.8,
          55,
          31.1,
          55,
          62.1,
          34,
          28.5,
          58,
          70.2,
          49,
          null,
          null,
          null,
          55.9,
          65.2,
          null,
          52,
          55.9,
          70,
          62.1,
          64,
          56,
          60,
          63,
          59,
          null,
          52,
          76,
          49.7,
          53,
          73,
          59.3,
          34,
          58
         ],
         "xaxis": "x",
         "y": [
          null,
          null,
          null,
          null,
          null,
          null,
          null,
          null,
          null,
          null,
          null,
          null,
          null,
          null,
          null,
          52.5,
          null,
          null,
          null,
          null,
          null,
          null,
          null,
          null,
          null,
          62,
          null,
          null,
          null,
          null,
          null,
          null,
          null,
          null,
          null,
          null,
          null,
          null,
          null,
          null,
          null,
          null,
          null,
          null,
          null,
          null,
          null,
          null,
          null,
          null,
          null,
          78.7,
          null,
          65,
          null,
          null,
          null,
          null,
          null,
          null,
          null,
          null,
          null,
          null,
          null,
          null,
          null,
          null,
          null,
          null,
          null,
          49.2,
          null,
          78.7,
          null,
          null,
          null,
          null,
          null,
          null,
          null,
          null,
          null,
          null,
          null,
          131.2,
          null,
          null,
          null,
          null,
          null,
          null,
          null,
          null,
          null,
          91.9,
          null,
          null,
          null,
          null,
          null,
          null,
          null,
          null,
          null,
          null,
          null,
          null,
          null,
          null,
          null,
          null,
          null,
          15,
          null,
          null,
          null,
          null,
          null,
          null,
          null,
          null,
          null,
          null,
          null,
          null,
          null,
          null,
          null,
          null,
          null,
          null,
          null,
          null,
          null,
          null,
          null,
          null,
          null,
          null,
          null,
          null,
          null,
          null,
          null,
          null,
          null,
          null,
          null,
          null,
          null,
          null,
          null,
          null,
          null,
          null,
          null,
          null,
          null,
          null,
          null,
          null,
          null,
          null,
          null,
          null,
          null,
          null,
          null,
          null,
          null,
          null,
          null,
          null,
          null,
          null,
          null,
          null,
          null,
          78.1,
          41,
          null,
          89.9,
          95.1,
          75.5,
          32.8,
          82,
          null,
          null,
          91.9,
          45.9,
          101.7,
          null,
          null,
          null,
          null,
          null,
          null,
          null,
          null,
          null,
          null,
          null,
          null,
          null,
          19.7,
          null,
          null,
          null,
          116.5,
          null,
          null,
          null,
          null,
          null,
          null,
          null,
          null,
          90.2,
          null,
          null,
          87.9,
          26.2,
          null,
          null,
          145,
          null,
          null,
          null,
          null,
          null,
          null,
          null,
          39.4,
          null,
          null,
          null,
          32.8,
          null,
          null,
          null,
          null,
          null,
          null,
          82,
          null,
          null,
          147.6,
          null,
          15.4,
          15.4,
          null,
          null,
          null,
          null,
          null,
          null,
          null,
          null,
          null,
          null,
          null,
          null,
          null,
          null,
          null,
          null,
          null,
          null,
          null,
          null,
          null,
          83.7,
          null,
          null,
          118.1,
          null,
          null,
          null,
          null,
          null,
          null,
          null,
          91.9,
          null,
          null,
          null,
          null,
          null,
          23,
          null,
          null,
          null,
          null,
          null,
          null,
          null,
          null,
          null,
          null,
          null,
          null,
          null,
          null,
          null,
          null,
          null,
          39.4,
          null,
          91.2,
          null,
          null,
          null,
          null,
          null,
          null,
          null,
          null,
          null,
          null,
          null,
          null,
          137.8,
          null,
          null,
          null,
          null,
          null,
          null,
          null,
          null,
          null,
          null,
          null,
          null,
          null,
          null,
          null,
          14.8,
          null,
          null,
          null,
          null,
          null,
          null,
          null,
          null,
          null,
          null,
          null,
          101.7,
          null,
          null,
          null,
          180.4,
          null,
          null,
          42.7,
          null,
          null,
          null,
          null,
          null,
          null,
          null,
          109.3,
          null,
          null,
          131.2,
          null,
          null,
          null,
          null,
          null,
          null,
          148,
          null,
          109.3,
          null,
          null,
          null,
          null,
          null,
          null,
          null,
          null,
          null,
          null,
          null,
          27.9,
          29.9,
          null,
          null,
          null,
          null,
          null,
          null,
          null,
          null,
          null,
          null,
          null,
          null,
          null,
          29.9,
          null,
          null,
          null,
          null,
          null,
          null,
          null,
          null,
          null,
          null,
          null,
          null,
          null,
          null,
          null,
          null,
          null,
          null,
          147.6,
          null,
          null,
          null,
          null,
          null,
          null,
          null,
          377.3,
          null,
          null,
          null,
          null,
          null,
          null,
          null,
          null,
          null,
          null,
          null,
          null,
          null,
          null,
          null,
          null,
          null,
          null,
          null,
          65,
          null,
          null,
          null,
          null,
          78.7,
          null,
          null,
          null,
          null,
          null,
          null,
          null,
          null,
          null,
          null,
          null,
          null,
          91.2,
          null,
          null,
          null,
          null,
          null,
          null,
          null,
          null,
          null,
          null,
          null,
          null,
          null,
          null,
          null,
          null,
          null,
          null,
          null,
          null,
          null,
          null,
          null,
          null,
          null,
          null,
          null,
          null,
          null,
          null,
          null,
          null,
          null,
          null,
          null,
          null,
          null,
          null,
          null,
          null,
          null,
          null,
          null,
          null,
          null,
          null,
          null,
          null,
          null,
          null,
          null,
          null,
          null,
          null,
          null,
          45.9,
          null,
          null,
          45.9,
          null,
          null,
          null,
          null,
          null,
          null,
          null,
          null,
          23,
          null,
          null,
          null,
          null,
          null,
          null,
          null,
          null,
          null,
          42.7,
          null,
          98.4,
          null,
          null,
          null,
          318.2,
          null,
          null,
          null,
          null,
          null,
          null,
          null,
          null,
          null,
          null,
          null,
          null,
          164,
          null,
          193.6,
          160.8,
          null,
          null,
          193.6,
          131.2,
          null,
          null,
          null,
          null,
          51.8,
          109.3,
          null,
          null,
          null,
          null,
          null,
          null,
          null,
          null,
          null,
          null,
          null,
          null,
          null,
          null,
          null,
          null,
          null,
          null,
          48.9,
          null,
          65.6,
          154.8,
          null,
          51.8,
          null,
          null,
          null,
          null,
          null,
          null,
          48.9,
          55.8,
          239.5,
          null,
          null,
          null,
          null,
          null,
          null,
          null,
          null,
          null,
          null,
          null,
          118.1,
          null,
          null,
          13.1,
          null,
          null,
          null,
          null,
          null,
          null,
          95.1,
          null,
          null,
          null,
          null,
          null,
          null,
          262.5,
          null,
          null,
          72.2,
          null,
          49.2,
          91.9,
          null,
          null,
          null,
          null,
          null,
          null,
          null,
          null,
          null,
          null,
          null,
          null,
          null,
          55.8,
          null,
          null,
          null,
          null,
          null,
          null,
          null,
          50.2,
          null,
          84.3,
          null,
          98.4,
          48.6,
          null,
          null,
          null,
          null,
          null,
          null,
          null,
          null,
          null,
          78.7,
          null,
          null,
          null,
          null,
          null,
          60.4,
          null,
          null,
          null,
          131.2,
          null,
          null,
          null,
          null,
          null,
          null,
          null,
          null,
          null,
          null,
          null,
          null,
          null,
          null,
          null,
          null,
          null,
          null,
          205.1,
          null,
          null,
          null,
          null,
          null,
          null,
          null,
          null,
          59.1,
          null,
          null,
          null,
          null,
          147.6,
          null,
          144.4,
          null,
          42.7,
          null,
          null,
          null,
          64.3,
          null,
          23,
          null,
          null,
          null,
          null,
          null,
          null,
          null,
          null,
          98.4,
          104.7,
          null,
          null,
          null,
          null,
          229.7,
          null,
          null,
          null,
          null,
          null,
          null,
          null,
          null,
          null,
          19.7,
          null,
          null,
          null,
          null,
          null,
          null,
          null,
          null,
          110.2,
          null,
          null,
          null,
          null,
          null,
          48.9,
          183.8,
          null,
          null,
          null,
          null,
          null,
          null,
          213.3,
          131.2,
          72.2,
          null,
          null,
          null,
          116.5,
          null,
          null,
          null,
          null,
          null,
          null,
          null,
          null,
          null,
          null,
          80.4,
          null,
          null,
          null,
          null,
          null,
          null,
          null,
          42.7,
          null,
          170.6,
          105,
          null,
          null,
          82,
          null,
          null,
          null,
          82,
          null,
          null,
          23,
          null,
          null,
          null,
          null,
          65.6,
          null,
          null,
          null,
          null,
          151.6,
          null,
          null,
          null,
          75.5,
          null,
          null,
          108.3,
          null,
          134.5,
          51.8,
          null,
          null,
          82,
          null,
          null,
          null,
          141.1,
          45.9,
          96,
          null,
          26.2,
          null,
          null,
          null,
          null,
          109.3,
          29.9,
          null,
          null,
          null,
          null,
          49.2,
          null,
          null,
          null,
          51.8,
          306.1,
          null,
          null,
          65.6,
          249.3,
          null,
          null,
          null,
          126.6,
          null,
          null,
          null,
          null,
          null,
          null,
          null,
          98.4,
          null,
          null,
          null,
          null,
          null,
          null,
          null,
          null,
          null,
          null,
          null,
          null,
          98.4,
          null,
          null,
          null,
          123,
          null,
          null,
          91.9,
          null,
          null,
          null,
          108.3,
          44.3,
          null,
          null,
          null,
          null,
          null,
          null,
          131.2,
          null,
          null,
          134.5,
          null,
          null,
          null,
          null,
          null,
          null,
          15.4,
          null,
          null,
          null,
          null,
          62.3,
          60,
          null,
          null,
          98.4,
          null,
          null,
          87.9,
          null,
          null,
          null,
          null,
          null,
          null,
          null,
          null,
          null,
          55.8,
          null,
          null,
          null,
          null,
          105,
          239.5,
          null,
          null,
          null,
          null,
          null,
          null,
          206.7,
          null,
          81,
          null,
          null,
          105,
          null,
          133.2,
          147.6,
          null,
          null,
          null,
          null,
          98.4,
          null,
          null,
          null,
          183.7,
          null,
          202.1,
          null,
          null,
          null,
          null,
          null,
          131.2,
          null,
          null,
          null,
          null,
          367.5,
          131.2,
          null,
          null,
          null,
          null,
          null,
          null,
          null,
          null,
          null,
          252.6,
          null,
          null,
          null,
          null,
          82,
          null,
          null,
          null,
          null,
          null,
          null,
          null,
          null,
          null,
          null,
          null,
          null,
          null,
          null,
          null,
          144.4,
          null,
          null,
          null,
          141.1,
          null,
          180.4,
          null,
          null,
          null,
          null,
          null,
          null,
          null,
          null,
          null,
          null,
          null,
          null,
          null,
          223.1,
          206,
          null,
          null,
          19.7,
          null,
          null,
          142.7,
          null,
          null,
          null,
          null,
          null,
          null,
          null,
          null,
          null,
          null,
          null,
          null,
          36.1,
          null,
          null,
          null,
          null,
          null,
          null,
          null,
          null,
          null,
          null,
          null,
          null,
          null,
          null,
          null,
          105,
          null,
          null,
          null,
          null,
          null
         ],
         "yaxis": "y"
        }
       ],
       "layout": {
        "legend": {
         "tracegroupgap": 0
        },
        "template": {
         "data": {
          "bar": [
           {
            "error_x": {
             "color": "#2a3f5f"
            },
            "error_y": {
             "color": "#2a3f5f"
            },
            "marker": {
             "line": {
              "color": "#E5ECF6",
              "width": 0.5
             },
             "pattern": {
              "fillmode": "overlay",
              "size": 10,
              "solidity": 0.2
             }
            },
            "type": "bar"
           }
          ],
          "barpolar": [
           {
            "marker": {
             "line": {
              "color": "#E5ECF6",
              "width": 0.5
             },
             "pattern": {
              "fillmode": "overlay",
              "size": 10,
              "solidity": 0.2
             }
            },
            "type": "barpolar"
           }
          ],
          "carpet": [
           {
            "aaxis": {
             "endlinecolor": "#2a3f5f",
             "gridcolor": "white",
             "linecolor": "white",
             "minorgridcolor": "white",
             "startlinecolor": "#2a3f5f"
            },
            "baxis": {
             "endlinecolor": "#2a3f5f",
             "gridcolor": "white",
             "linecolor": "white",
             "minorgridcolor": "white",
             "startlinecolor": "#2a3f5f"
            },
            "type": "carpet"
           }
          ],
          "choropleth": [
           {
            "colorbar": {
             "outlinewidth": 0,
             "ticks": ""
            },
            "type": "choropleth"
           }
          ],
          "contour": [
           {
            "colorbar": {
             "outlinewidth": 0,
             "ticks": ""
            },
            "colorscale": [
             [
              0,
              "#0d0887"
             ],
             [
              0.1111111111111111,
              "#46039f"
             ],
             [
              0.2222222222222222,
              "#7201a8"
             ],
             [
              0.3333333333333333,
              "#9c179e"
             ],
             [
              0.4444444444444444,
              "#bd3786"
             ],
             [
              0.5555555555555556,
              "#d8576b"
             ],
             [
              0.6666666666666666,
              "#ed7953"
             ],
             [
              0.7777777777777778,
              "#fb9f3a"
             ],
             [
              0.8888888888888888,
              "#fdca26"
             ],
             [
              1,
              "#f0f921"
             ]
            ],
            "type": "contour"
           }
          ],
          "contourcarpet": [
           {
            "colorbar": {
             "outlinewidth": 0,
             "ticks": ""
            },
            "type": "contourcarpet"
           }
          ],
          "heatmap": [
           {
            "colorbar": {
             "outlinewidth": 0,
             "ticks": ""
            },
            "colorscale": [
             [
              0,
              "#0d0887"
             ],
             [
              0.1111111111111111,
              "#46039f"
             ],
             [
              0.2222222222222222,
              "#7201a8"
             ],
             [
              0.3333333333333333,
              "#9c179e"
             ],
             [
              0.4444444444444444,
              "#bd3786"
             ],
             [
              0.5555555555555556,
              "#d8576b"
             ],
             [
              0.6666666666666666,
              "#ed7953"
             ],
             [
              0.7777777777777778,
              "#fb9f3a"
             ],
             [
              0.8888888888888888,
              "#fdca26"
             ],
             [
              1,
              "#f0f921"
             ]
            ],
            "type": "heatmap"
           }
          ],
          "heatmapgl": [
           {
            "colorbar": {
             "outlinewidth": 0,
             "ticks": ""
            },
            "colorscale": [
             [
              0,
              "#0d0887"
             ],
             [
              0.1111111111111111,
              "#46039f"
             ],
             [
              0.2222222222222222,
              "#7201a8"
             ],
             [
              0.3333333333333333,
              "#9c179e"
             ],
             [
              0.4444444444444444,
              "#bd3786"
             ],
             [
              0.5555555555555556,
              "#d8576b"
             ],
             [
              0.6666666666666666,
              "#ed7953"
             ],
             [
              0.7777777777777778,
              "#fb9f3a"
             ],
             [
              0.8888888888888888,
              "#fdca26"
             ],
             [
              1,
              "#f0f921"
             ]
            ],
            "type": "heatmapgl"
           }
          ],
          "histogram": [
           {
            "marker": {
             "pattern": {
              "fillmode": "overlay",
              "size": 10,
              "solidity": 0.2
             }
            },
            "type": "histogram"
           }
          ],
          "histogram2d": [
           {
            "colorbar": {
             "outlinewidth": 0,
             "ticks": ""
            },
            "colorscale": [
             [
              0,
              "#0d0887"
             ],
             [
              0.1111111111111111,
              "#46039f"
             ],
             [
              0.2222222222222222,
              "#7201a8"
             ],
             [
              0.3333333333333333,
              "#9c179e"
             ],
             [
              0.4444444444444444,
              "#bd3786"
             ],
             [
              0.5555555555555556,
              "#d8576b"
             ],
             [
              0.6666666666666666,
              "#ed7953"
             ],
             [
              0.7777777777777778,
              "#fb9f3a"
             ],
             [
              0.8888888888888888,
              "#fdca26"
             ],
             [
              1,
              "#f0f921"
             ]
            ],
            "type": "histogram2d"
           }
          ],
          "histogram2dcontour": [
           {
            "colorbar": {
             "outlinewidth": 0,
             "ticks": ""
            },
            "colorscale": [
             [
              0,
              "#0d0887"
             ],
             [
              0.1111111111111111,
              "#46039f"
             ],
             [
              0.2222222222222222,
              "#7201a8"
             ],
             [
              0.3333333333333333,
              "#9c179e"
             ],
             [
              0.4444444444444444,
              "#bd3786"
             ],
             [
              0.5555555555555556,
              "#d8576b"
             ],
             [
              0.6666666666666666,
              "#ed7953"
             ],
             [
              0.7777777777777778,
              "#fb9f3a"
             ],
             [
              0.8888888888888888,
              "#fdca26"
             ],
             [
              1,
              "#f0f921"
             ]
            ],
            "type": "histogram2dcontour"
           }
          ],
          "mesh3d": [
           {
            "colorbar": {
             "outlinewidth": 0,
             "ticks": ""
            },
            "type": "mesh3d"
           }
          ],
          "parcoords": [
           {
            "line": {
             "colorbar": {
              "outlinewidth": 0,
              "ticks": ""
             }
            },
            "type": "parcoords"
           }
          ],
          "pie": [
           {
            "automargin": true,
            "type": "pie"
           }
          ],
          "scatter": [
           {
            "fillpattern": {
             "fillmode": "overlay",
             "size": 10,
             "solidity": 0.2
            },
            "type": "scatter"
           }
          ],
          "scatter3d": [
           {
            "line": {
             "colorbar": {
              "outlinewidth": 0,
              "ticks": ""
             }
            },
            "marker": {
             "colorbar": {
              "outlinewidth": 0,
              "ticks": ""
             }
            },
            "type": "scatter3d"
           }
          ],
          "scattercarpet": [
           {
            "marker": {
             "colorbar": {
              "outlinewidth": 0,
              "ticks": ""
             }
            },
            "type": "scattercarpet"
           }
          ],
          "scattergeo": [
           {
            "marker": {
             "colorbar": {
              "outlinewidth": 0,
              "ticks": ""
             }
            },
            "type": "scattergeo"
           }
          ],
          "scattergl": [
           {
            "marker": {
             "colorbar": {
              "outlinewidth": 0,
              "ticks": ""
             }
            },
            "type": "scattergl"
           }
          ],
          "scattermapbox": [
           {
            "marker": {
             "colorbar": {
              "outlinewidth": 0,
              "ticks": ""
             }
            },
            "type": "scattermapbox"
           }
          ],
          "scatterpolar": [
           {
            "marker": {
             "colorbar": {
              "outlinewidth": 0,
              "ticks": ""
             }
            },
            "type": "scatterpolar"
           }
          ],
          "scatterpolargl": [
           {
            "marker": {
             "colorbar": {
              "outlinewidth": 0,
              "ticks": ""
             }
            },
            "type": "scatterpolargl"
           }
          ],
          "scatterternary": [
           {
            "marker": {
             "colorbar": {
              "outlinewidth": 0,
              "ticks": ""
             }
            },
            "type": "scatterternary"
           }
          ],
          "surface": [
           {
            "colorbar": {
             "outlinewidth": 0,
             "ticks": ""
            },
            "colorscale": [
             [
              0,
              "#0d0887"
             ],
             [
              0.1111111111111111,
              "#46039f"
             ],
             [
              0.2222222222222222,
              "#7201a8"
             ],
             [
              0.3333333333333333,
              "#9c179e"
             ],
             [
              0.4444444444444444,
              "#bd3786"
             ],
             [
              0.5555555555555556,
              "#d8576b"
             ],
             [
              0.6666666666666666,
              "#ed7953"
             ],
             [
              0.7777777777777778,
              "#fb9f3a"
             ],
             [
              0.8888888888888888,
              "#fdca26"
             ],
             [
              1,
              "#f0f921"
             ]
            ],
            "type": "surface"
           }
          ],
          "table": [
           {
            "cells": {
             "fill": {
              "color": "#EBF0F8"
             },
             "line": {
              "color": "white"
             }
            },
            "header": {
             "fill": {
              "color": "#C8D4E3"
             },
             "line": {
              "color": "white"
             }
            },
            "type": "table"
           }
          ]
         },
         "layout": {
          "annotationdefaults": {
           "arrowcolor": "#2a3f5f",
           "arrowhead": 0,
           "arrowwidth": 1
          },
          "autotypenumbers": "strict",
          "coloraxis": {
           "colorbar": {
            "outlinewidth": 0,
            "ticks": ""
           }
          },
          "colorscale": {
           "diverging": [
            [
             0,
             "#8e0152"
            ],
            [
             0.1,
             "#c51b7d"
            ],
            [
             0.2,
             "#de77ae"
            ],
            [
             0.3,
             "#f1b6da"
            ],
            [
             0.4,
             "#fde0ef"
            ],
            [
             0.5,
             "#f7f7f7"
            ],
            [
             0.6,
             "#e6f5d0"
            ],
            [
             0.7,
             "#b8e186"
            ],
            [
             0.8,
             "#7fbc41"
            ],
            [
             0.9,
             "#4d9221"
            ],
            [
             1,
             "#276419"
            ]
           ],
           "sequential": [
            [
             0,
             "#0d0887"
            ],
            [
             0.1111111111111111,
             "#46039f"
            ],
            [
             0.2222222222222222,
             "#7201a8"
            ],
            [
             0.3333333333333333,
             "#9c179e"
            ],
            [
             0.4444444444444444,
             "#bd3786"
            ],
            [
             0.5555555555555556,
             "#d8576b"
            ],
            [
             0.6666666666666666,
             "#ed7953"
            ],
            [
             0.7777777777777778,
             "#fb9f3a"
            ],
            [
             0.8888888888888888,
             "#fdca26"
            ],
            [
             1,
             "#f0f921"
            ]
           ],
           "sequentialminus": [
            [
             0,
             "#0d0887"
            ],
            [
             0.1111111111111111,
             "#46039f"
            ],
            [
             0.2222222222222222,
             "#7201a8"
            ],
            [
             0.3333333333333333,
             "#9c179e"
            ],
            [
             0.4444444444444444,
             "#bd3786"
            ],
            [
             0.5555555555555556,
             "#d8576b"
            ],
            [
             0.6666666666666666,
             "#ed7953"
            ],
            [
             0.7777777777777778,
             "#fb9f3a"
            ],
            [
             0.8888888888888888,
             "#fdca26"
            ],
            [
             1,
             "#f0f921"
            ]
           ]
          },
          "colorway": [
           "#636efa",
           "#EF553B",
           "#00cc96",
           "#ab63fa",
           "#FFA15A",
           "#19d3f3",
           "#FF6692",
           "#B6E880",
           "#FF97FF",
           "#FECB52"
          ],
          "font": {
           "color": "#2a3f5f"
          },
          "geo": {
           "bgcolor": "white",
           "lakecolor": "white",
           "landcolor": "#E5ECF6",
           "showlakes": true,
           "showland": true,
           "subunitcolor": "white"
          },
          "hoverlabel": {
           "align": "left"
          },
          "hovermode": "closest",
          "mapbox": {
           "style": "light"
          },
          "paper_bgcolor": "white",
          "plot_bgcolor": "#E5ECF6",
          "polar": {
           "angularaxis": {
            "gridcolor": "white",
            "linecolor": "white",
            "ticks": ""
           },
           "bgcolor": "#E5ECF6",
           "radialaxis": {
            "gridcolor": "white",
            "linecolor": "white",
            "ticks": ""
           }
          },
          "scene": {
           "xaxis": {
            "backgroundcolor": "#E5ECF6",
            "gridcolor": "white",
            "gridwidth": 2,
            "linecolor": "white",
            "showbackground": true,
            "ticks": "",
            "zerolinecolor": "white"
           },
           "yaxis": {
            "backgroundcolor": "#E5ECF6",
            "gridcolor": "white",
            "gridwidth": 2,
            "linecolor": "white",
            "showbackground": true,
            "ticks": "",
            "zerolinecolor": "white"
           },
           "zaxis": {
            "backgroundcolor": "#E5ECF6",
            "gridcolor": "white",
            "gridwidth": 2,
            "linecolor": "white",
            "showbackground": true,
            "ticks": "",
            "zerolinecolor": "white"
           }
          },
          "shapedefaults": {
           "line": {
            "color": "#2a3f5f"
           }
          },
          "ternary": {
           "aaxis": {
            "gridcolor": "white",
            "linecolor": "white",
            "ticks": ""
           },
           "baxis": {
            "gridcolor": "white",
            "linecolor": "white",
            "ticks": ""
           },
           "bgcolor": "#E5ECF6",
           "caxis": {
            "gridcolor": "white",
            "linecolor": "white",
            "ticks": ""
           }
          },
          "title": {
           "x": 0.05
          },
          "xaxis": {
           "automargin": true,
           "gridcolor": "white",
           "linecolor": "white",
           "ticks": "",
           "title": {
            "standoff": 15
           },
           "zerolinecolor": "white",
           "zerolinewidth": 2
          },
          "yaxis": {
           "automargin": true,
           "gridcolor": "white",
           "linecolor": "white",
           "ticks": "",
           "title": {
            "standoff": 15
           },
           "zerolinecolor": "white",
           "zerolinewidth": 2
          }
         }
        },
        "title": {
         "text": "Coaster Speed vs. Height"
        },
        "xaxis": {
         "anchor": "y",
         "domain": [
          0,
          1
         ],
         "title": {
          "text": "Speed_mph"
         }
        },
        "yaxis": {
         "anchor": "x",
         "domain": [
          0,
          1
         ],
         "title": {
          "text": "Height_ft"
         }
        }
       }
      }
     },
     "metadata": {},
     "output_type": "display_data"
    }
   ],
   "source": [
    "#scatterplot\n",
    "fig = px.scatter(df, x='Speed_mph', y='Height_ft', title='Coaster Speed vs. Height')\n",
    "fig.show()"
   ]
  },
  {
   "cell_type": "code",
   "execution_count": null,
   "metadata": {},
   "outputs": [],
   "source": []
  }
 ],
 "metadata": {
  "kernelspec": {
   "display_name": "env",
   "language": "python",
   "name": "python3"
  },
  "language_info": {
   "codemirror_mode": {
    "name": "ipython",
    "version": 3
   },
   "file_extension": ".py",
   "mimetype": "text/x-python",
   "name": "python",
   "nbconvert_exporter": "python",
   "pygments_lexer": "ipython3",
   "version": "3.10.9"
  }
 },
 "nbformat": 4,
 "nbformat_minor": 2
}
